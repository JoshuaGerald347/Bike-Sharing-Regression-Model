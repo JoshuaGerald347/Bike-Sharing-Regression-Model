{
 "cells": [
  {
   "attachments": {},
   "cell_type": "markdown",
   "id": "5cc423fe",
   "metadata": {},
   "source": [
    "# **BIKE SHARING DATASET**\n",
    "\n",
    "[Sumber data](https://drive.google.com/drive/folders/17Mw_4wSRiBB5vLLQJN137AlAbyB3CLFx) "
   ]
  },
  {
   "attachments": {},
   "cell_type": "markdown",
   "id": "a9e939ad",
   "metadata": {},
   "source": [
    "### **Contents**\n",
    "\n",
    "1. Business Problem Understanding\n",
    "2. Data Understanding\n",
    "3. Data Preprocessing (Data Cleaning, Feature Selection, Feature Engineering)\n",
    "4. Modeling (Algorithm, Evaluation Metrics)\n",
    "5. Conclusion\n",
    "6. Recommendation / Improvement\n",
    "\n",
    "***"
   ]
  },
  {
   "cell_type": "markdown",
   "id": "19274e3f",
   "metadata": {},
   "source": [
    "## **Business Problem Understanding**"
   ]
  },
  {
   "cell_type": "markdown",
   "id": "2d4b4fa8",
   "metadata": {},
   "source": [
    "**Context**"
   ]
  },
  {
   "attachments": {},
   "cell_type": "markdown",
   "id": "d9ea7547",
   "metadata": {},
   "source": [
    "**Capital Bikeshare** adalah sebuah sistem peminjaman sepeda yang terletak di Amerika Serikat. Sistem peminjaman sepeda ini merupakan generasi baru dari rental sepeda tradisional dimana seluruh prosesnya seperti sistem keanggotaan, penyewaan, dan pengembalian telah dilakukan secara otomatis. Melalui sistem ini, pengguna mampu dengan mudah menyewa sepeda dari satu lokasi tertentu dan mengembalikkannya di lokasi yang lain. Saat ini, terdapat sekitar lebih dari 500 program *bike-sharing* di seluruh dunia dengan lebih dari 500.000 sepeda. **Capital Bikeshare** sendiri memiliki lebih dari 600 stasiun dan sekitar 5.000 sepeda yang tersebar di wilayah Washington. Kebutuhan terhadap sistem ini semakin meningkat dikarenakan permasalahan isu lalu lintas, lingkungan, dan kesehatan.\n",
    "\n",
    "Data yang digunakan dalam project ini adalah data kondisi cuaca, musim, tanggal dan jam, serta total penyewa. Dari data tersebut, dapat dipelajari dan dianalisis keterkaitan antar fitur, sehingga dapat diperoleh metode untuk memprediksi perkiraan sepeda yang diperlukan pada waktu dengan kondisi tertentu."
   ]
  },
  {
   "cell_type": "markdown",
   "id": "35ba3a4a",
   "metadata": {},
   "source": [
    "**Problem Statement**"
   ]
  },
  {
   "attachments": {},
   "cell_type": "markdown",
   "id": "4d7873a9",
   "metadata": {},
   "source": [
    "Problem dalam sistem peminjaman ini yaitu mengenai penyediaan jumlah unit sepeda yang cukup di setiap kondisi dan situasinya. Jika tidak, maka dapat gagal dalam memenuhi tuntutan dari pengguna sistem peminjaman sepeda tersebut dan bahkan bisa berujung kepada hilangnya kepercayaan pelanggan. Namun apabila jumlah ketersediaan sepeda terlalu banyak, hal itu bisa menyebabkan banyaknya unit sepeda yang tidak terpakai, dalam kata lain, tidak efisien. Dimana hal tersebut bisa berimbas kepada membengkaknya biaya manajemen, logistik, serta perawatan untuk tiap unit sepeda."
   ]
  },
  {
   "cell_type": "markdown",
   "id": "09926781",
   "metadata": {},
   "source": [
    "**Goals**"
   ]
  },
  {
   "attachments": {},
   "cell_type": "markdown",
   "id": "27c4fd7e",
   "metadata": {},
   "source": [
    "Berdasarkan permasalahan tersebut, diperlukan adanya suatu tools yang dapat memprediksi perkiraan penyewa pada waktu dan kondisi tertentu sehingga penyedia layanan Bike sharing dapat menentukan total unit sepeda yang harus dipersiapkan untuk masa mendatang."
   ]
  },
  {
   "cell_type": "markdown",
   "id": "b5504f25",
   "metadata": {},
   "source": [
    "**Analytic Approach**"
   ]
  },
  {
   "cell_type": "markdown",
   "id": "d3471a62",
   "metadata": {},
   "source": [
    "Untuk mencapai tujuan tersebut, pada project ini akan dilakukan proses analisis data untuk dapat menemukan pola dari fitur - fitur yang ada, yang memberikan informasi Bike sharing pada tanggal dan jam tertentu.\n",
    "\n",
    "Selanjutnya, akan dibangun model regresi yang akan membantu penyedia layanan Bike sharing untuk memprediksi perkiraan total penyewa pada waktu tertentu."
   ]
  },
  {
   "cell_type": "markdown",
   "id": "bb3dff03",
   "metadata": {},
   "source": [
    "**Metric Evaluation**"
   ]
  },
  {
   "attachments": {},
   "cell_type": "markdown",
   "id": "fab06fa0",
   "metadata": {},
   "source": [
    "Evaluasi metrik yang akan digunakan adalah MAE, MAPE, dan RMSE. Semakin mendekati nol nilai MAE, MAPE, dan RMSE yang dihasilkan, berarti model semakin akurat dalam memprediksi total penyewa sesuai dengan limitasi fitur yang digunakan.\n",
    "\n",
    "MAE adalah metrik sederhana yang menghitung selisih absolut antara hasil aktual dan hasil prediksi, cocok digunakan jika Y memiliki variance yang kecil, dan terdapat banyak outliers pada residual. \n",
    "\n",
    "MAPE adalah rataan persentase error yang dihasilkan oleh model regresi, cocok digunakan jika ingin mengukur performa model berdasarkan error relative dan dapat digunakan untuk data dengan banyak outliers. \n",
    "\n",
    "RMSE adalah akar dari selisih kuadrat hasil prediksi dan hasil aktual, cocok digunakan jika variance dan rentang nilai target tidak terlalu besar dan memiliki sedikit outliers.\n",
    "\n",
    "R-square digunakan untuk mengetahui seberapa baik model dapat merepresentasikan varians keseluruhan data, seberapa besar pengaruh variabel independen terhadap variabel dependen. Semakin mendekati 1, maka semakin fit pula modelnya terhadap data observasi. Namun, metrik ini tidak valid untuk model non-linear.\n"
   ]
  },
  {
   "cell_type": "markdown",
   "id": "327498ab",
   "metadata": {},
   "source": [
    "## **Data Understanding**"
   ]
  },
  {
   "attachments": {},
   "cell_type": "markdown",
   "id": "2a1dd622",
   "metadata": {},
   "source": [
    "- Dataset merupakan data peminjaman sepeda di sistem ***Capital Bikeshare*** dalam rentang tahun 2011-2012.\n",
    "- Setiap baris data merepresentasikan informasi terkait penyewaan sepeda pada jam dan tanggal tertentu.\n",
    "\n",
    "**Attributes Information**\n",
    "\n",
    "| **Attribute** | **Data Type** | **Description** |\n",
    "| --- | --- | --- |\n",
    "| dteday | Object | Date |\n",
    "| hum | Float | Normalized humidity. The values are divided to 100 (max) |\n",
    "| weathersit | Integer | Weather Situation. Details : |\n",
    "| | | 1: Clear, Few clouds, Partly cloudy |\n",
    "| | | 2: Mist + Cloudy, Mist + Broken clouds, Mist + Few clouds, Mist |\n",
    "| | | 3: Light Snow, Light Rain + Thunderstorm + Scattered clouds, Light Rain + Scattered clouds |\n",
    "| | | 4: Heavy Rain + Ice Pallets + Thunderstorm + Mist, Snow + Fog |\n",
    "| holiday | Integer | Whether the day is considered a holiday |\n",
    "| season | Integer | 1 = spring, 2 = summer, 3 = fall, 4 = winter |\n",
    "| atemp | Float | \"Feels like\" temperature in Celsius |\n",
    "| temp | Float | Temperature in Celsius |\n",
    "| hr | Integer | Hour (0 to 23) |\n",
    "| casual | Integer | Number of non-registered user rentals initiated |\n",
    "| registered | Integer | Number of registered user rentals initiated |\n",
    "| cnt | Integer | Number of total rentals (include both casual and registered) |\n",
    "\n",
    "<br>"
   ]
  },
  {
   "cell_type": "code",
   "execution_count": 1,
   "id": "d85da4e0",
   "metadata": {},
   "outputs": [],
   "source": [
    "# Import library yang dibutuhkan untuk eksplorasi dataset\n",
    "import pandas as pd \n",
    "import numpy as np\n",
    "import matplotlib.pyplot as plt\n",
    "import seaborn as sns\n",
    "\n",
    "import warnings\n",
    "warnings.filterwarnings('ignore')"
   ]
  },
  {
   "cell_type": "code",
   "execution_count": 2,
   "id": "4bc75655",
   "metadata": {
    "scrolled": true
   },
   "outputs": [
    {
     "data": {
      "text/html": [
       "<div>\n",
       "<style scoped>\n",
       "    .dataframe tbody tr th:only-of-type {\n",
       "        vertical-align: middle;\n",
       "    }\n",
       "\n",
       "    .dataframe tbody tr th {\n",
       "        vertical-align: top;\n",
       "    }\n",
       "\n",
       "    .dataframe thead th {\n",
       "        text-align: right;\n",
       "    }\n",
       "</style>\n",
       "<table border=\"1\" class=\"dataframe\">\n",
       "  <thead>\n",
       "    <tr style=\"text-align: right;\">\n",
       "      <th></th>\n",
       "      <th>dteday</th>\n",
       "      <th>hum</th>\n",
       "      <th>weathersit</th>\n",
       "      <th>holiday</th>\n",
       "      <th>season</th>\n",
       "      <th>atemp</th>\n",
       "      <th>temp</th>\n",
       "      <th>hr</th>\n",
       "      <th>casual</th>\n",
       "      <th>registered</th>\n",
       "      <th>cnt</th>\n",
       "    </tr>\n",
       "  </thead>\n",
       "  <tbody>\n",
       "    <tr>\n",
       "      <th>0</th>\n",
       "      <td>2011-12-09</td>\n",
       "      <td>0.62</td>\n",
       "      <td>1</td>\n",
       "      <td>0</td>\n",
       "      <td>4</td>\n",
       "      <td>0.3485</td>\n",
       "      <td>0.36</td>\n",
       "      <td>16</td>\n",
       "      <td>24</td>\n",
       "      <td>226</td>\n",
       "      <td>250</td>\n",
       "    </tr>\n",
       "    <tr>\n",
       "      <th>1</th>\n",
       "      <td>2012-06-17</td>\n",
       "      <td>0.64</td>\n",
       "      <td>1</td>\n",
       "      <td>0</td>\n",
       "      <td>2</td>\n",
       "      <td>0.5152</td>\n",
       "      <td>0.54</td>\n",
       "      <td>4</td>\n",
       "      <td>2</td>\n",
       "      <td>16</td>\n",
       "      <td>18</td>\n",
       "    </tr>\n",
       "    <tr>\n",
       "      <th>2</th>\n",
       "      <td>2011-06-15</td>\n",
       "      <td>0.53</td>\n",
       "      <td>1</td>\n",
       "      <td>0</td>\n",
       "      <td>2</td>\n",
       "      <td>0.6212</td>\n",
       "      <td>0.62</td>\n",
       "      <td>23</td>\n",
       "      <td>17</td>\n",
       "      <td>90</td>\n",
       "      <td>107</td>\n",
       "    </tr>\n",
       "    <tr>\n",
       "      <th>3</th>\n",
       "      <td>2012-03-31</td>\n",
       "      <td>0.87</td>\n",
       "      <td>2</td>\n",
       "      <td>0</td>\n",
       "      <td>2</td>\n",
       "      <td>0.3485</td>\n",
       "      <td>0.36</td>\n",
       "      <td>8</td>\n",
       "      <td>19</td>\n",
       "      <td>126</td>\n",
       "      <td>145</td>\n",
       "    </tr>\n",
       "    <tr>\n",
       "      <th>4</th>\n",
       "      <td>2012-07-31</td>\n",
       "      <td>0.55</td>\n",
       "      <td>1</td>\n",
       "      <td>0</td>\n",
       "      <td>3</td>\n",
       "      <td>0.6970</td>\n",
       "      <td>0.76</td>\n",
       "      <td>18</td>\n",
       "      <td>99</td>\n",
       "      <td>758</td>\n",
       "      <td>857</td>\n",
       "    </tr>\n",
       "  </tbody>\n",
       "</table>\n",
       "</div>"
      ],
      "text/plain": [
       "       dteday   hum  weathersit  holiday  season   atemp  temp  hr  casual  \\\n",
       "0  2011-12-09  0.62           1        0       4  0.3485  0.36  16      24   \n",
       "1  2012-06-17  0.64           1        0       2  0.5152  0.54   4       2   \n",
       "2  2011-06-15  0.53           1        0       2  0.6212  0.62  23      17   \n",
       "3  2012-03-31  0.87           2        0       2  0.3485  0.36   8      19   \n",
       "4  2012-07-31  0.55           1        0       3  0.6970  0.76  18      99   \n",
       "\n",
       "   registered  cnt  \n",
       "0         226  250  \n",
       "1          16   18  \n",
       "2          90  107  \n",
       "3         126  145  \n",
       "4         758  857  "
      ]
     },
     "execution_count": 2,
     "metadata": {},
     "output_type": "execute_result"
    }
   ],
   "source": [
    "# Load dataset\n",
    "df = pd.read_csv('data_bike_sharing.csv')\n",
    "df.head()"
   ]
  },
  {
   "cell_type": "markdown",
   "id": "1cd1b871",
   "metadata": {},
   "source": [
    "**Exploratory Data Analysis**"
   ]
  },
  {
   "cell_type": "code",
   "execution_count": 3,
   "id": "2dc6ea86",
   "metadata": {},
   "outputs": [
    {
     "name": "stdout",
     "output_type": "stream",
     "text": [
      "<class 'pandas.core.frame.DataFrame'>\n",
      "RangeIndex: 12165 entries, 0 to 12164\n",
      "Data columns (total 11 columns):\n",
      " #   Column      Non-Null Count  Dtype  \n",
      "---  ------      --------------  -----  \n",
      " 0   dteday      12165 non-null  object \n",
      " 1   hum         12165 non-null  float64\n",
      " 2   weathersit  12165 non-null  int64  \n",
      " 3   holiday     12165 non-null  int64  \n",
      " 4   season      12165 non-null  int64  \n",
      " 5   atemp       12165 non-null  float64\n",
      " 6   temp        12165 non-null  float64\n",
      " 7   hr          12165 non-null  int64  \n",
      " 8   casual      12165 non-null  int64  \n",
      " 9   registered  12165 non-null  int64  \n",
      " 10  cnt         12165 non-null  int64  \n",
      "dtypes: float64(3), int64(7), object(1)\n",
      "memory usage: 1.0+ MB\n"
     ]
    }
   ],
   "source": [
    "df.info()"
   ]
  },
  {
   "cell_type": "code",
   "execution_count": 4,
   "id": "cbd814ca",
   "metadata": {},
   "outputs": [
    {
     "data": {
      "text/plain": [
       "0"
      ]
     },
     "execution_count": 4,
     "metadata": {},
     "output_type": "execute_result"
    }
   ],
   "source": [
    "# Pengecekan missing value\n",
    "df.isna().sum().sum()"
   ]
  },
  {
   "cell_type": "code",
   "execution_count": 5,
   "id": "2fbb2741",
   "metadata": {},
   "outputs": [
    {
     "data": {
      "text/plain": [
       "0"
      ]
     },
     "execution_count": 5,
     "metadata": {},
     "output_type": "execute_result"
    }
   ],
   "source": [
    "# Pengecekan data duplikat\n",
    "df.duplicated().sum()"
   ]
  },
  {
   "cell_type": "code",
   "execution_count": 6,
   "id": "97842ef7",
   "metadata": {},
   "outputs": [
    {
     "data": {
      "image/png": "[encoded data removed]",
      "text/plain": [
       "<Figure size 1800x700 with 10 Axes>"
      ]
     },
     "metadata": {},
     "output_type": "display_data"
    }
   ],
   "source": [
    "# Histogram bagian data2 numeric\n",
    "\n",
    "numeric = ['hum', 'atemp', 'temp', 'weathersit', 'season']\n",
    "df[numeric].hist(bins=15, figsize=(18, 7), layout=(2, 5), color='orange');"
   ]
  },
  {
   "cell_type": "code",
   "execution_count": 7,
   "id": "42521646",
   "metadata": {},
   "outputs": [
    {
     "data": {
      "image/png": "[encoded data removed]",
      "text/plain": [
       "<Figure size 640x480 with 2 Axes>"
      ]
     },
     "metadata": {},
     "output_type": "display_data"
    }
   ],
   "source": [
    "sns.heatmap(df[numeric].corr(), annot=True)\n",
    "plt.show()"
   ]
  },
  {
   "cell_type": "code",
   "execution_count": 8,
   "id": "7f250b4b",
   "metadata": {},
   "outputs": [
    {
     "data": {
      "text/plain": [
       "0.021188721742704496"
      ]
     },
     "execution_count": 8,
     "metadata": {},
     "output_type": "execute_result"
    }
   ],
   "source": [
    "(df['temp']-df['atemp']).mean()"
   ]
  },
  {
   "attachments": {},
   "cell_type": "markdown",
   "id": "c95cc703",
   "metadata": {},
   "source": [
    "Fitur temp dan atemp memiliki tingkat korelasi yang sangat tinggi.\n",
    "</br>Dimana keduanya juga me-representasikan temperatur pada jam tersebut sehingga dapat digunakan salah satu saja."
   ]
  },
  {
   "cell_type": "markdown",
   "id": "4d4e2f25",
   "metadata": {},
   "source": [
    "## **Data Preprocessing**"
   ]
  },
  {
   "attachments": {},
   "cell_type": "markdown",
   "id": "69b56f77",
   "metadata": {},
   "source": [
    "Lanjut masuk pda tahap data preprocessing, pada tahap ini akan dilakukan proses cleaning data. Dataset yang sudah bersih kemudian akan digunakan untuk proses analisis lebih lanjut. Berikut tahap-tahap yang akan dilakukan :\n",
    "\n",
    " - Melakukan penghapusan data duplicate.\n",
    " - Jika didapati kesalahan tipe data, makan akan diubah ke tipe yang lebih tepat.\n",
    " - Melakukan drop pada fitur yang tidak memiliki relevansi dengan permasalahan saat ini.\n",
    " - Menambahkan atau add fitur yang memiliki kemungkinan relevansi terhadap permasalahan saat ini.\n",
    " - Jika didapati adanya missing value, maka dilakukan treatment yang sesuai (drop fitur, digantikan dengan nilai yang sesuai, drop data, dll).\n",
    " - Terakhir bila terdapat data outlier, maka akan dilakukan penanganan yang sesuai.\n",
    " \n",
    "Untuk proses data preprocessing dan feature engineering, akan digunakan dataframe duplikasi dari dataframe yang sebelumnya digunakan."
   ]
  },
  {
   "cell_type": "code",
   "execution_count": 9,
   "id": "03bee549",
   "metadata": {},
   "outputs": [],
   "source": [
    "# Membuat duplikasi dataframe\n",
    "df_model = df.copy()"
   ]
  },
  {
   "cell_type": "markdown",
   "id": "0c5c5b2c",
   "metadata": {},
   "source": [
    "**Add Feature**"
   ]
  },
  {
   "cell_type": "code",
   "execution_count": 10,
   "id": "fc58904c",
   "metadata": {},
   "outputs": [],
   "source": [
    "# Melakukan penambahan month, year, dayname pada fitur dteday\n",
    "month=[]\n",
    "year=[]\n",
    "day=[]\n",
    "df_model['month'] = pd.to_datetime(df_model['dteday']).dt.month\n",
    "df_model['year'] = pd.to_datetime(df_model['dteday']).dt.year\n",
    "df_model['day'] = pd.to_datetime(df_model['dteday']).dt.day_of_week"
   ]
  },
  {
   "cell_type": "code",
   "execution_count": 12,
   "id": "98fabb76",
   "metadata": {},
   "outputs": [
    {
     "data": {
      "text/html": [
       "<div>\n",
       "<style scoped>\n",
       "    .dataframe tbody tr th:only-of-type {\n",
       "        vertical-align: middle;\n",
       "    }\n",
       "\n",
       "    .dataframe tbody tr th {\n",
       "        vertical-align: top;\n",
       "    }\n",
       "\n",
       "    .dataframe thead th {\n",
       "        text-align: right;\n",
       "    }\n",
       "</style>\n",
       "<table border=\"1\" class=\"dataframe\">\n",
       "  <thead>\n",
       "    <tr style=\"text-align: right;\">\n",
       "      <th></th>\n",
       "      <th>dataFeatures</th>\n",
       "      <th>dataType</th>\n",
       "      <th>null</th>\n",
       "      <th>nullPct</th>\n",
       "      <th>unique</th>\n",
       "      <th>uniqueSample</th>\n",
       "    </tr>\n",
       "  </thead>\n",
       "  <tbody>\n",
       "    <tr>\n",
       "      <th>0</th>\n",
       "      <td>dteday</td>\n",
       "      <td>object</td>\n",
       "      <td>0</td>\n",
       "      <td>0.0</td>\n",
       "      <td>731</td>\n",
       "      <td>[2011-09-12, 2011-02-11]</td>\n",
       "    </tr>\n",
       "    <tr>\n",
       "      <th>1</th>\n",
       "      <td>hum</td>\n",
       "      <td>float64</td>\n",
       "      <td>0</td>\n",
       "      <td>0.0</td>\n",
       "      <td>89</td>\n",
       "      <td>[0.17, 0.81]</td>\n",
       "    </tr>\n",
       "    <tr>\n",
       "      <th>2</th>\n",
       "      <td>weathersit</td>\n",
       "      <td>int64</td>\n",
       "      <td>0</td>\n",
       "      <td>0.0</td>\n",
       "      <td>4</td>\n",
       "      <td>[2, 4]</td>\n",
       "    </tr>\n",
       "    <tr>\n",
       "      <th>3</th>\n",
       "      <td>holiday</td>\n",
       "      <td>int64</td>\n",
       "      <td>0</td>\n",
       "      <td>0.0</td>\n",
       "      <td>2</td>\n",
       "      <td>[0, 1]</td>\n",
       "    </tr>\n",
       "    <tr>\n",
       "      <th>4</th>\n",
       "      <td>season</td>\n",
       "      <td>int64</td>\n",
       "      <td>0</td>\n",
       "      <td>0.0</td>\n",
       "      <td>4</td>\n",
       "      <td>[4, 3]</td>\n",
       "    </tr>\n",
       "    <tr>\n",
       "      <th>5</th>\n",
       "      <td>atemp</td>\n",
       "      <td>float64</td>\n",
       "      <td>0</td>\n",
       "      <td>0.0</td>\n",
       "      <td>65</td>\n",
       "      <td>[0.7273, 0.3182]</td>\n",
       "    </tr>\n",
       "    <tr>\n",
       "      <th>6</th>\n",
       "      <td>temp</td>\n",
       "      <td>float64</td>\n",
       "      <td>0</td>\n",
       "      <td>0.0</td>\n",
       "      <td>50</td>\n",
       "      <td>[0.02, 0.74]</td>\n",
       "    </tr>\n",
       "    <tr>\n",
       "      <th>7</th>\n",
       "      <td>hr</td>\n",
       "      <td>int64</td>\n",
       "      <td>0</td>\n",
       "      <td>0.0</td>\n",
       "      <td>24</td>\n",
       "      <td>[2, 21]</td>\n",
       "    </tr>\n",
       "    <tr>\n",
       "      <th>8</th>\n",
       "      <td>casual</td>\n",
       "      <td>int64</td>\n",
       "      <td>0</td>\n",
       "      <td>0.0</td>\n",
       "      <td>305</td>\n",
       "      <td>[257, 239]</td>\n",
       "    </tr>\n",
       "    <tr>\n",
       "      <th>9</th>\n",
       "      <td>registered</td>\n",
       "      <td>int64</td>\n",
       "      <td>0</td>\n",
       "      <td>0.0</td>\n",
       "      <td>742</td>\n",
       "      <td>[79, 212]</td>\n",
       "    </tr>\n",
       "    <tr>\n",
       "      <th>10</th>\n",
       "      <td>cnt</td>\n",
       "      <td>int64</td>\n",
       "      <td>0</td>\n",
       "      <td>0.0</td>\n",
       "      <td>830</td>\n",
       "      <td>[869, 714]</td>\n",
       "    </tr>\n",
       "    <tr>\n",
       "      <th>11</th>\n",
       "      <td>month</td>\n",
       "      <td>int64</td>\n",
       "      <td>0</td>\n",
       "      <td>0.0</td>\n",
       "      <td>12</td>\n",
       "      <td>[12, 8]</td>\n",
       "    </tr>\n",
       "    <tr>\n",
       "      <th>12</th>\n",
       "      <td>year</td>\n",
       "      <td>int64</td>\n",
       "      <td>0</td>\n",
       "      <td>0.0</td>\n",
       "      <td>2</td>\n",
       "      <td>[2012, 2011]</td>\n",
       "    </tr>\n",
       "    <tr>\n",
       "      <th>13</th>\n",
       "      <td>day</td>\n",
       "      <td>int64</td>\n",
       "      <td>0</td>\n",
       "      <td>0.0</td>\n",
       "      <td>7</td>\n",
       "      <td>[3, 6]</td>\n",
       "    </tr>\n",
       "  </tbody>\n",
       "</table>\n",
       "</div>"
      ],
      "text/plain": [
       "   dataFeatures dataType  null  nullPct  unique              uniqueSample\n",
       "0        dteday   object     0      0.0     731  [2011-09-12, 2011-02-11]\n",
       "1           hum  float64     0      0.0      89              [0.17, 0.81]\n",
       "2    weathersit    int64     0      0.0       4                    [2, 4]\n",
       "3       holiday    int64     0      0.0       2                    [0, 1]\n",
       "4        season    int64     0      0.0       4                    [4, 3]\n",
       "5         atemp  float64     0      0.0      65          [0.7273, 0.3182]\n",
       "6          temp  float64     0      0.0      50              [0.02, 0.74]\n",
       "7            hr    int64     0      0.0      24                   [2, 21]\n",
       "8        casual    int64     0      0.0     305                [257, 239]\n",
       "9    registered    int64     0      0.0     742                 [79, 212]\n",
       "10          cnt    int64     0      0.0     830                [869, 714]\n",
       "11        month    int64     0      0.0      12                   [12, 8]\n",
       "12         year    int64     0      0.0       2              [2012, 2011]\n",
       "13          day    int64     0      0.0       7                    [3, 6]"
      ]
     },
     "execution_count": 12,
     "metadata": {},
     "output_type": "execute_result"
    }
   ],
   "source": [
    "# Pengecekan info secara lebih terperinci untuk setiap fiturnya\n",
    "listItem = []\n",
    "\n",
    "for col in df_model.columns:\n",
    "    listItem.append([\n",
    "        col, \n",
    "        df_model[col].dtype, \n",
    "        df_model[col].isna().sum(), \n",
    "        round((df_model[col].isna().sum()/len(df_model[col]))*100, 2),\n",
    "        df_model[col].nunique(), \n",
    "        list(df_model[col].drop_duplicates().sample(2).values)\n",
    "    ]);\n",
    "\n",
    "df_model_desc = pd.DataFrame(columns=['dataFeatures', 'dataType', 'null', 'nullPct', 'unique', 'uniqueSample'],\n",
    "                     data=listItem)\n",
    "df_model_desc"
   ]
  },
  {
   "cell_type": "markdown",
   "id": "5081d492",
   "metadata": {},
   "source": [
    "**Data Duplicate**"
   ]
  },
  {
   "cell_type": "code",
   "execution_count": 13,
   "id": "54730fed",
   "metadata": {},
   "outputs": [
    {
     "data": {
      "text/plain": [
       "0"
      ]
     },
     "execution_count": 13,
     "metadata": {},
     "output_type": "execute_result"
    }
   ],
   "source": [
    "# Pengecekan data duplikat\n",
    "df_model.duplicated().sum()"
   ]
  },
  {
   "attachments": {},
   "cell_type": "markdown",
   "id": "4b55dd74",
   "metadata": {},
   "source": [
    "Tidak didapati adanya duplikat data"
   ]
  },
  {
   "cell_type": "markdown",
   "id": "302f432f",
   "metadata": {},
   "source": [
    "**Drop Fitur & Data**"
   ]
  },
  {
   "attachments": {},
   "cell_type": "markdown",
   "id": "312fd444",
   "metadata": {},
   "source": [
    "Perlu dilakukan pertimbangan sebelum melakukan drop pada kolom atau fitur. Berikut beberapa fitur yang akan di drop beserta reason mengapa dilakukan drop data :\n",
    "\n",
    " - Fitur 'casual' dan 'registered' tidak diperlukan dalam analisis, karena tujuannya berfokus pada total seluruh persewaan saja.\n",
    " - Fitur 'atemp' akan dihapus karena terdapat fitur 'temp', dimana keduanya merepresentasikan temperatur dengan korelasi yang cukup tinggi.\n",
    " - Fitur 'dteday' akan dihapus karena sebelumnya telah dibuat fitur month, year, dan dayname."
   ]
  },
  {
   "cell_type": "code",
   "execution_count": 14,
   "id": "e3583112",
   "metadata": {},
   "outputs": [],
   "source": [
    "df_model.drop(['casual', 'registered', 'atemp', 'dteday'], axis=1, inplace=True)"
   ]
  },
  {
   "cell_type": "markdown",
   "id": "a26791cc",
   "metadata": {},
   "source": [
    "**Tipe Data**"
   ]
  },
  {
   "cell_type": "code",
   "execution_count": 15,
   "id": "832172b8",
   "metadata": {},
   "outputs": [],
   "source": [
    "df_model = df_model.astype({\"weathersit\":'category', \"season\":'category', \"holiday\":'category'})"
   ]
  },
  {
   "cell_type": "markdown",
   "id": "7fdf66a5",
   "metadata": {},
   "source": [
    "**Rename Columns**"
   ]
  },
  {
   "cell_type": "code",
   "execution_count": 16,
   "id": "dbe770be",
   "metadata": {},
   "outputs": [],
   "source": [
    "df_model.rename({\n",
    "    'hum' : 'Humidity',\n",
    "    'weathersit' : 'Weather',\n",
    "    'season' : 'Season',\n",
    "    'temp' : 'Temperature',\n",
    "    'hr' : 'Hour',\n",
    "    'cnt' : 'Count',\n",
    "    'month' : 'Month',\n",
    "    'year' : 'Year',\n",
    "    'day' : 'Day',\n",
    "    'holiday' : 'Holiday'\n",
    "} , inplace = True , axis = 1)"
   ]
  },
  {
   "cell_type": "code",
   "execution_count": 17,
   "id": "9d42cfd4",
   "metadata": {},
   "outputs": [
    {
     "data": {
      "text/html": [
       "<div>\n",
       "<style scoped>\n",
       "    .dataframe tbody tr th:only-of-type {\n",
       "        vertical-align: middle;\n",
       "    }\n",
       "\n",
       "    .dataframe tbody tr th {\n",
       "        vertical-align: top;\n",
       "    }\n",
       "\n",
       "    .dataframe thead th {\n",
       "        text-align: right;\n",
       "    }\n",
       "</style>\n",
       "<table border=\"1\" class=\"dataframe\">\n",
       "  <thead>\n",
       "    <tr style=\"text-align: right;\">\n",
       "      <th></th>\n",
       "      <th>Humidity</th>\n",
       "      <th>Weather</th>\n",
       "      <th>Holiday</th>\n",
       "      <th>Season</th>\n",
       "      <th>Temperature</th>\n",
       "      <th>Hour</th>\n",
       "      <th>Count</th>\n",
       "      <th>Month</th>\n",
       "      <th>Year</th>\n",
       "      <th>Day</th>\n",
       "    </tr>\n",
       "  </thead>\n",
       "  <tbody>\n",
       "    <tr>\n",
       "      <th>0</th>\n",
       "      <td>0.62</td>\n",
       "      <td>1</td>\n",
       "      <td>0</td>\n",
       "      <td>4</td>\n",
       "      <td>0.36</td>\n",
       "      <td>16</td>\n",
       "      <td>250</td>\n",
       "      <td>12</td>\n",
       "      <td>2011</td>\n",
       "      <td>4</td>\n",
       "    </tr>\n",
       "    <tr>\n",
       "      <th>1</th>\n",
       "      <td>0.64</td>\n",
       "      <td>1</td>\n",
       "      <td>0</td>\n",
       "      <td>2</td>\n",
       "      <td>0.54</td>\n",
       "      <td>4</td>\n",
       "      <td>18</td>\n",
       "      <td>6</td>\n",
       "      <td>2012</td>\n",
       "      <td>6</td>\n",
       "    </tr>\n",
       "    <tr>\n",
       "      <th>2</th>\n",
       "      <td>0.53</td>\n",
       "      <td>1</td>\n",
       "      <td>0</td>\n",
       "      <td>2</td>\n",
       "      <td>0.62</td>\n",
       "      <td>23</td>\n",
       "      <td>107</td>\n",
       "      <td>6</td>\n",
       "      <td>2011</td>\n",
       "      <td>2</td>\n",
       "    </tr>\n",
       "    <tr>\n",
       "      <th>3</th>\n",
       "      <td>0.87</td>\n",
       "      <td>2</td>\n",
       "      <td>0</td>\n",
       "      <td>2</td>\n",
       "      <td>0.36</td>\n",
       "      <td>8</td>\n",
       "      <td>145</td>\n",
       "      <td>3</td>\n",
       "      <td>2012</td>\n",
       "      <td>5</td>\n",
       "    </tr>\n",
       "    <tr>\n",
       "      <th>4</th>\n",
       "      <td>0.55</td>\n",
       "      <td>1</td>\n",
       "      <td>0</td>\n",
       "      <td>3</td>\n",
       "      <td>0.76</td>\n",
       "      <td>18</td>\n",
       "      <td>857</td>\n",
       "      <td>7</td>\n",
       "      <td>2012</td>\n",
       "      <td>1</td>\n",
       "    </tr>\n",
       "  </tbody>\n",
       "</table>\n",
       "</div>"
      ],
      "text/plain": [
       "   Humidity Weather Holiday Season  Temperature  Hour  Count  Month  Year  Day\n",
       "0      0.62       1       0      4         0.36    16    250     12  2011    4\n",
       "1      0.64       1       0      2         0.54     4     18      6  2012    6\n",
       "2      0.53       1       0      2         0.62    23    107      6  2011    2\n",
       "3      0.87       2       0      2         0.36     8    145      3  2012    5\n",
       "4      0.55       1       0      3         0.76    18    857      7  2012    1"
      ]
     },
     "execution_count": 17,
     "metadata": {},
     "output_type": "execute_result"
    }
   ],
   "source": [
    "df_model.head()"
   ]
  },
  {
   "attachments": {},
   "cell_type": "markdown",
   "id": "cace3439",
   "metadata": {},
   "source": [
    "- Selanjutnya, kita juga perlu melakukan pengeceka apakah terdapat nilai-nilai yang dirasa tidak masuk akal pada setiap fiturnya.\n",
    "- Seperti contoh adanya nilai yang kurang dari 0, disini dapat dilakukan pengecekan dengan menggunakan statistika deskriptif untuk tiap numerikal fitur."
   ]
  },
  {
   "cell_type": "code",
   "execution_count": 18,
   "id": "d7152c5b",
   "metadata": {},
   "outputs": [
    {
     "data": {
      "text/html": [
       "<div>\n",
       "<style scoped>\n",
       "    .dataframe tbody tr th:only-of-type {\n",
       "        vertical-align: middle;\n",
       "    }\n",
       "\n",
       "    .dataframe tbody tr th {\n",
       "        vertical-align: top;\n",
       "    }\n",
       "\n",
       "    .dataframe thead th {\n",
       "        text-align: right;\n",
       "    }\n",
       "</style>\n",
       "<table border=\"1\" class=\"dataframe\">\n",
       "  <thead>\n",
       "    <tr style=\"text-align: right;\">\n",
       "      <th></th>\n",
       "      <th>Humidity</th>\n",
       "      <th>Temperature</th>\n",
       "      <th>Hour</th>\n",
       "      <th>Count</th>\n",
       "      <th>Month</th>\n",
       "      <th>Year</th>\n",
       "      <th>Day</th>\n",
       "    </tr>\n",
       "  </thead>\n",
       "  <tbody>\n",
       "    <tr>\n",
       "      <th>count</th>\n",
       "      <td>12165.000000</td>\n",
       "      <td>12165.000000</td>\n",
       "      <td>12165.000000</td>\n",
       "      <td>12165.000000</td>\n",
       "      <td>12165.000000</td>\n",
       "      <td>12165.000000</td>\n",
       "      <td>12165.000000</td>\n",
       "    </tr>\n",
       "    <tr>\n",
       "      <th>mean</th>\n",
       "      <td>0.625451</td>\n",
       "      <td>0.498185</td>\n",
       "      <td>11.519770</td>\n",
       "      <td>189.271023</td>\n",
       "      <td>6.510974</td>\n",
       "      <td>2011.501932</td>\n",
       "      <td>3.005261</td>\n",
       "    </tr>\n",
       "    <tr>\n",
       "      <th>std</th>\n",
       "      <td>0.192102</td>\n",
       "      <td>0.192492</td>\n",
       "      <td>6.931872</td>\n",
       "      <td>181.223903</td>\n",
       "      <td>3.433995</td>\n",
       "      <td>0.500017</td>\n",
       "      <td>1.992993</td>\n",
       "    </tr>\n",
       "    <tr>\n",
       "      <th>min</th>\n",
       "      <td>0.000000</td>\n",
       "      <td>0.020000</td>\n",
       "      <td>0.000000</td>\n",
       "      <td>1.000000</td>\n",
       "      <td>1.000000</td>\n",
       "      <td>2011.000000</td>\n",
       "      <td>0.000000</td>\n",
       "    </tr>\n",
       "    <tr>\n",
       "      <th>25%</th>\n",
       "      <td>0.470000</td>\n",
       "      <td>0.340000</td>\n",
       "      <td>6.000000</td>\n",
       "      <td>40.000000</td>\n",
       "      <td>4.000000</td>\n",
       "      <td>2011.000000</td>\n",
       "      <td>1.000000</td>\n",
       "    </tr>\n",
       "    <tr>\n",
       "      <th>50%</th>\n",
       "      <td>0.620000</td>\n",
       "      <td>0.500000</td>\n",
       "      <td>12.000000</td>\n",
       "      <td>142.000000</td>\n",
       "      <td>7.000000</td>\n",
       "      <td>2012.000000</td>\n",
       "      <td>3.000000</td>\n",
       "    </tr>\n",
       "    <tr>\n",
       "      <th>75%</th>\n",
       "      <td>0.780000</td>\n",
       "      <td>0.660000</td>\n",
       "      <td>18.000000</td>\n",
       "      <td>282.000000</td>\n",
       "      <td>9.000000</td>\n",
       "      <td>2012.000000</td>\n",
       "      <td>5.000000</td>\n",
       "    </tr>\n",
       "    <tr>\n",
       "      <th>max</th>\n",
       "      <td>1.000000</td>\n",
       "      <td>1.000000</td>\n",
       "      <td>23.000000</td>\n",
       "      <td>970.000000</td>\n",
       "      <td>12.000000</td>\n",
       "      <td>2012.000000</td>\n",
       "      <td>6.000000</td>\n",
       "    </tr>\n",
       "  </tbody>\n",
       "</table>\n",
       "</div>"
      ],
      "text/plain": [
       "           Humidity   Temperature          Hour         Count         Month  \\\n",
       "count  12165.000000  12165.000000  12165.000000  12165.000000  12165.000000   \n",
       "mean       0.625451      0.498185     11.519770    189.271023      6.510974   \n",
       "std        0.192102      0.192492      6.931872    181.223903      3.433995   \n",
       "min        0.000000      0.020000      0.000000      1.000000      1.000000   \n",
       "25%        0.470000      0.340000      6.000000     40.000000      4.000000   \n",
       "50%        0.620000      0.500000     12.000000    142.000000      7.000000   \n",
       "75%        0.780000      0.660000     18.000000    282.000000      9.000000   \n",
       "max        1.000000      1.000000     23.000000    970.000000     12.000000   \n",
       "\n",
       "               Year           Day  \n",
       "count  12165.000000  12165.000000  \n",
       "mean    2011.501932      3.005261  \n",
       "std        0.500017      1.992993  \n",
       "min     2011.000000      0.000000  \n",
       "25%     2011.000000      1.000000  \n",
       "50%     2012.000000      3.000000  \n",
       "75%     2012.000000      5.000000  \n",
       "max     2012.000000      6.000000  "
      ]
     },
     "execution_count": 18,
     "metadata": {},
     "output_type": "execute_result"
    }
   ],
   "source": [
    "# Cek deskriptif statistik fitur numerikal\n",
    "num_features = [feature for feature in df_model.columns if ((df_model[feature].dtypes != 'object'))]\n",
    "df_model[num_features].describe()"
   ]
  },
  {
   "cell_type": "markdown",
   "id": "be1c5249",
   "metadata": {},
   "source": [
    "**Correlation Matrix**"
   ]
  },
  {
   "cell_type": "code",
   "execution_count": 19,
   "id": "771734bb",
   "metadata": {},
   "outputs": [
    {
     "data": {
      "text/plain": [
       "Text(0.5, 1.0, 'Correlation Matrix')"
      ]
     },
     "execution_count": 19,
     "metadata": {},
     "output_type": "execute_result"
    },
    {
     "data": {
      "image/png": "[encoded data removed]",
      "text/plain": [
       "<Figure size 1500x1200 with 2 Axes>"
      ]
     },
     "metadata": {},
     "output_type": "display_data"
    }
   ],
   "source": [
    "# Correlation matrix\n",
    "plt.figure(figsize=(15, 12))\n",
    "palette=sns.diverging_palette(20, 220, n=256)\n",
    "corr = df_model.corr(method='spearman')\n",
    "sns.heatmap(corr, annot=True, fmt='.2f', cmap='rocket', square=True, linewidths=.5)\n",
    "plt.title('Correlation Matrix', size=15, weight='bold')"
   ]
  },
  {
   "attachments": {},
   "cell_type": "markdown",
   "id": "c2f79737",
   "metadata": {},
   "source": [
    "- Dari hasil heatmap diatas, dapat dilihat bahwa tidak ada fitur yang memiliki korelasi yang kuat terhadap fitur `Count`. Korelasi paling tinggi dimiliki oleh fitur `Temperature` dan `Hour`, di mana korelasi yang terbentuk adalah korelasi positif. Ini menunjukan bahwa semakin besar nilai temperature dan hour atau semakin tinggi nilai temperature saat itu dan semakin lama waktu peminjaman, maka jumlah persewaaan pun semakin banyak."
   ]
  },
  {
   "cell_type": "code",
   "execution_count": 20,
   "id": "617287e8",
   "metadata": {},
   "outputs": [
    {
     "name": "stdout",
     "output_type": "stream",
     "text": [
      "<class 'pandas.core.frame.DataFrame'>\n",
      "RangeIndex: 12165 entries, 0 to 12164\n",
      "Data columns (total 10 columns):\n",
      " #   Column       Non-Null Count  Dtype   \n",
      "---  ------       --------------  -----   \n",
      " 0   Humidity     12165 non-null  float64 \n",
      " 1   Weather      12165 non-null  category\n",
      " 2   Holiday      12165 non-null  category\n",
      " 3   Season       12165 non-null  category\n",
      " 4   Temperature  12165 non-null  float64 \n",
      " 5   Hour         12165 non-null  int64   \n",
      " 6   Count        12165 non-null  int64   \n",
      " 7   Month        12165 non-null  int64   \n",
      " 8   Year         12165 non-null  int64   \n",
      " 9   Day          12165 non-null  int64   \n",
      "dtypes: category(3), float64(2), int64(5)\n",
      "memory usage: 701.6 KB\n"
     ]
    }
   ],
   "source": [
    "df_model.info()"
   ]
  },
  {
   "cell_type": "code",
   "execution_count": 21,
   "id": "ee13c112",
   "metadata": {},
   "outputs": [],
   "source": [
    "from statsmodels.stats.outliers_influence import variance_inflation_factor\n",
    "\n",
    "def calc_vif(X):\n",
    "    vif = pd.DataFrame()\n",
    "    vif[\"variables\"] = X.columns\n",
    "    vif[\"VIF\"] = [variance_inflation_factor(X.values, i) for i in range(X.shape[1])]\n",
    "    return(vif)"
   ]
  },
  {
   "cell_type": "code",
   "execution_count": 22,
   "id": "8d3a281a",
   "metadata": {},
   "outputs": [
    {
     "data": {
      "text/html": [
       "<div>\n",
       "<style scoped>\n",
       "    .dataframe tbody tr th:only-of-type {\n",
       "        vertical-align: middle;\n",
       "    }\n",
       "\n",
       "    .dataframe tbody tr th {\n",
       "        vertical-align: top;\n",
       "    }\n",
       "\n",
       "    .dataframe thead th {\n",
       "        text-align: right;\n",
       "    }\n",
       "</style>\n",
       "<table border=\"1\" class=\"dataframe\">\n",
       "  <thead>\n",
       "    <tr style=\"text-align: right;\">\n",
       "      <th></th>\n",
       "      <th>variables</th>\n",
       "      <th>VIF</th>\n",
       "    </tr>\n",
       "  </thead>\n",
       "  <tbody>\n",
       "    <tr>\n",
       "      <th>0</th>\n",
       "      <td>Humidity</td>\n",
       "      <td>6.631105</td>\n",
       "    </tr>\n",
       "    <tr>\n",
       "      <th>1</th>\n",
       "      <td>Season</td>\n",
       "      <td>6.907225</td>\n",
       "    </tr>\n",
       "    <tr>\n",
       "      <th>2</th>\n",
       "      <td>Temperature</td>\n",
       "      <td>8.651352</td>\n",
       "    </tr>\n",
       "    <tr>\n",
       "      <th>3</th>\n",
       "      <td>Hour</td>\n",
       "      <td>3.819242</td>\n",
       "    </tr>\n",
       "    <tr>\n",
       "      <th>4</th>\n",
       "      <td>Count</td>\n",
       "      <td>3.127051</td>\n",
       "    </tr>\n",
       "  </tbody>\n",
       "</table>\n",
       "</div>"
      ],
      "text/plain": [
       "     variables       VIF\n",
       "0     Humidity  6.631105\n",
       "1       Season  6.907225\n",
       "2  Temperature  8.651352\n",
       "3         Hour  3.819242\n",
       "4        Count  3.127051"
      ]
     },
     "execution_count": 22,
     "metadata": {},
     "output_type": "execute_result"
    }
   ],
   "source": [
    "calc_vif(df_model[['Humidity', 'Season', 'Temperature', 'Hour', 'Count']])"
   ]
  },
  {
   "attachments": {},
   "cell_type": "markdown",
   "id": "1ff78b85",
   "metadata": {},
   "source": [
    "Selanjutnya, dilakukan pengecekan pada distribusi data dan outliers untuk tiap numerikal fitur. Jika distribusinya memiliki skewness yang tinggi, salah satu cara yang bisa dilakukan untuk menguranginya adalah dengan melakukan rekayasa pada tiap fiturnya."
   ]
  },
  {
   "cell_type": "markdown",
   "id": "6c3bd779",
   "metadata": {},
   "source": [
    "**Outliers Detection**"
   ]
  },
  {
   "cell_type": "markdown",
   "id": "76a1d1b0",
   "metadata": {},
   "source": [
    "Banyaknya outliers pada data tentu akan memengaruhi hasil analisis dan pemodelan yang dilakukan. Ada beberapa hal yang harus dipertimbangkan sebelum memutuskan treatment yang sesuai dengan data, di antaranya adalah dengan mempertimbangkan sisi domain knowledge."
   ]
  },
  {
   "cell_type": "code",
   "execution_count": 23,
   "id": "fb14f827",
   "metadata": {},
   "outputs": [
    {
     "data": {
      "image/png": "[encoded data removed]",
      "text/plain": [
       "<Figure size 640x480 with 1 Axes>"
      ]
     },
     "metadata": {},
     "output_type": "display_data"
    }
   ],
   "source": [
    "# Menggunakan boxplot untuk mengecek outliers\n",
    "df_model.boxplot(rot=90);"
   ]
  },
  {
   "cell_type": "code",
   "execution_count": 24,
   "id": "7c2f6c17",
   "metadata": {},
   "outputs": [],
   "source": [
    "# Membuat function untuk mengecek data outliers\n",
    "def cek_outliers(data):\n",
    "    q1 = data.quantile(0.25)\n",
    "    q3 = data.quantile(0.75)\n",
    "    iqr = q3 - q1\n",
    "    batas = iqr*1.5\n",
    "    print(f'IQR: {iqr}')\n",
    "\n",
    "    batas_bawah = q1 - batas\n",
    "    batas_atas = q3 + batas\n",
    "    print(f'batas_bawah: {batas_bawah}')\n",
    "    print(f'batas_atas: {batas_atas}')        "
   ]
  },
  {
   "cell_type": "code",
   "execution_count": 25,
   "id": "987d87ab",
   "metadata": {},
   "outputs": [
    {
     "name": "stdout",
     "output_type": "stream",
     "text": [
      "IQR: 0.31000000000000005\n",
      "batas_bawah: 0.004999999999999893\n",
      "batas_atas: 1.245\n"
     ]
    }
   ],
   "source": [
    "# Outliers pada fitur humidity\n",
    "cek_outliers(df_model['Humidity'])"
   ]
  },
  {
   "cell_type": "code",
   "execution_count": 26,
   "id": "ccb2f6bf",
   "metadata": {},
   "outputs": [
    {
     "data": {
      "image/png": "[encoded data removed]",
      "text/plain": [
       "<Figure size 640x480 with 1 Axes>"
      ]
     },
     "metadata": {},
     "output_type": "display_data"
    }
   ],
   "source": [
    "sns.boxplot(df_model['Humidity'])\n",
    "plt.show()"
   ]
  },
  {
   "cell_type": "code",
   "execution_count": 27,
   "id": "c86dc4ef",
   "metadata": {},
   "outputs": [
    {
     "name": "stdout",
     "output_type": "stream",
     "text": [
      "IQR: 0.32\n",
      "batas_bawah: -0.13999999999999996\n",
      "batas_atas: 1.1400000000000001\n"
     ]
    }
   ],
   "source": [
    "# Outliers pada fitur temperature\n",
    "cek_outliers(df_model['Temperature'])"
   ]
  },
  {
   "cell_type": "code",
   "execution_count": 28,
   "id": "2ac79f0e",
   "metadata": {},
   "outputs": [
    {
     "data": {
      "image/png": "[encoded data removed]",
      "text/plain": [
       "<Figure size 640x480 with 1 Axes>"
      ]
     },
     "metadata": {},
     "output_type": "display_data"
    }
   ],
   "source": [
    "sns.boxplot(df_model['Temperature'])\n",
    "plt.show()"
   ]
  },
  {
   "cell_type": "code",
   "execution_count": 29,
   "id": "45b48f81",
   "metadata": {},
   "outputs": [
    {
     "name": "stdout",
     "output_type": "stream",
     "text": [
      "IQR: 242.0\n",
      "batas_bawah: -323.0\n",
      "batas_atas: 645.0\n"
     ]
    }
   ],
   "source": [
    "# Outliers pada fitur count\n",
    "cek_outliers(df_model['Count'])"
   ]
  },
  {
   "cell_type": "code",
   "execution_count": 30,
   "id": "e00b06f3",
   "metadata": {},
   "outputs": [
    {
     "data": {
      "image/png": "[encoded data removed]",
      "text/plain": [
       "<Figure size 640x480 with 1 Axes>"
      ]
     },
     "metadata": {},
     "output_type": "display_data"
    }
   ],
   "source": [
    "sns.boxplot(df_model['Count'])\n",
    "plt.show()"
   ]
  },
  {
   "attachments": {},
   "cell_type": "markdown",
   "id": "53bccb5c",
   "metadata": {},
   "source": [
    "Terdapat outliers pada `Humidity` serta `Count`. Untuk mengatasinya, akan dihilangkan data outliers tersebut.\n",
    "<br> Selanjutnya, prediksi dapat dilakukan pada rentang data sesuai dataset yang sudah bersih agar hasil prediksi tidak bias."
   ]
  },
  {
   "attachments": {},
   "cell_type": "markdown",
   "id": "a79307f9",
   "metadata": {},
   "source": [
    "Lalu, dapat memulai untuk feature engineering terhadap fitur-fitur numerikal."
   ]
  },
  {
   "cell_type": "markdown",
   "id": "f90fa6c5",
   "metadata": {},
   "source": [
    "**Humidity**"
   ]
  },
  {
   "cell_type": "code",
   "execution_count": 31,
   "id": "74bbe267",
   "metadata": {},
   "outputs": [
    {
     "data": {
      "text/plain": [
       "count    12165.000000\n",
       "mean         0.625451\n",
       "std          0.192102\n",
       "min          0.000000\n",
       "25%          0.470000\n",
       "50%          0.620000\n",
       "75%          0.780000\n",
       "max          1.000000\n",
       "Name: Humidity, dtype: float64"
      ]
     },
     "execution_count": 31,
     "metadata": {},
     "output_type": "execute_result"
    }
   ],
   "source": [
    "# Cek statistik deskriptif untuk kolom humidity\n",
    "df_model['Humidity'].describe()"
   ]
  },
  {
   "cell_type": "code",
   "execution_count": 32,
   "id": "0e864409",
   "metadata": {},
   "outputs": [
    {
     "data": {
      "text/plain": [
       "14"
      ]
     },
     "execution_count": 32,
     "metadata": {},
     "output_type": "execute_result"
    }
   ],
   "source": [
    "# Cek humidity diantara 0.00499 and 1.245\n",
    "df_model[(df_model['Humidity'] > 1.245) | (df_model['Humidity'] < 0.00499)].count()['Humidity']"
   ]
  },
  {
   "cell_type": "code",
   "execution_count": 33,
   "id": "49e2ea91",
   "metadata": {},
   "outputs": [
    {
     "data": {
      "image/png": "[encoded data removed]",
      "text/plain": [
       "<Figure size 2100x600 with 2 Axes>"
      ]
     },
     "metadata": {},
     "output_type": "display_data"
    }
   ],
   "source": [
    "# Melakukan filtering data\n",
    "df_model = df_model[(df_model['Humidity'] <= 1.245) & (df_model['Humidity'] >= 0.00499)]\n",
    "\n",
    "# Plot distribusi data sebelum dan setelah dilakukan filtering\n",
    "fig, axes = plt.subplots(1,2, figsize=(21, 6))\n",
    "sns.distplot(df['hum'], ax=axes[0], color= 'blue')\n",
    "sns.distplot(df_model['Humidity'], ax=axes[1], color='orange')\n",
    "axes[0].set_xlabel('Price')\n",
    "axes[1].set_xlabel('Range Selected Price');"
   ]
  },
  {
   "cell_type": "code",
   "execution_count": 34,
   "id": "0168b1d9",
   "metadata": {},
   "outputs": [
    {
     "data": {
      "text/plain": [
       "count    12151.000000\n",
       "mean         0.626172\n",
       "std          0.191036\n",
       "min          0.080000\n",
       "25%          0.480000\n",
       "50%          0.620000\n",
       "75%          0.780000\n",
       "max          1.000000\n",
       "Name: Humidity, dtype: float64"
      ]
     },
     "execution_count": 34,
     "metadata": {},
     "output_type": "execute_result"
    }
   ],
   "source": [
    "# Cek deskriptif statistik kolom 'Humidity' setelah filtering\n",
    "df_model['Humidity'].describe()"
   ]
  },
  {
   "cell_type": "markdown",
   "id": "d6bc9a90",
   "metadata": {},
   "source": [
    "**Temperature**"
   ]
  },
  {
   "cell_type": "code",
   "execution_count": 35,
   "id": "f0aa7603",
   "metadata": {},
   "outputs": [
    {
     "data": {
      "text/plain": [
       "count    12151.000000\n",
       "mean         0.498313\n",
       "std          0.192562\n",
       "min          0.020000\n",
       "25%          0.340000\n",
       "50%          0.500000\n",
       "75%          0.660000\n",
       "max          1.000000\n",
       "Name: Temperature, dtype: float64"
      ]
     },
     "execution_count": 35,
     "metadata": {},
     "output_type": "execute_result"
    }
   ],
   "source": [
    "# Cek statistik deskriptif untuk kolom Temperature\n",
    "df_model['Temperature'].describe()"
   ]
  },
  {
   "cell_type": "code",
   "execution_count": 36,
   "id": "0237d4d8",
   "metadata": {},
   "outputs": [
    {
     "data": {
      "text/plain": [
       "0"
      ]
     },
     "execution_count": 36,
     "metadata": {},
     "output_type": "execute_result"
    }
   ],
   "source": [
    "# Cek Temperature diantara -0.0985499 and 1.0530499\n",
    "df_model[(df_model['Temperature'] > 1.0530499) | (df_model['Temperature'] < -0.0985499)].count()['Temperature']"
   ]
  },
  {
   "cell_type": "markdown",
   "id": "db5131d9",
   "metadata": {},
   "source": [
    "**Count**"
   ]
  },
  {
   "cell_type": "code",
   "execution_count": 37,
   "id": "a8d6573a",
   "metadata": {},
   "outputs": [
    {
     "data": {
      "text/plain": [
       "count    12151.000000\n",
       "mean       189.457329\n",
       "std        181.242898\n",
       "min          1.000000\n",
       "25%         40.000000\n",
       "50%        142.000000\n",
       "75%        282.000000\n",
       "max        970.000000\n",
       "Name: Count, dtype: float64"
      ]
     },
     "execution_count": 37,
     "metadata": {},
     "output_type": "execute_result"
    }
   ],
   "source": [
    "# Cek statistik deskriptif untuk kolom Count\n",
    "df_model['Count'].describe()"
   ]
  },
  {
   "cell_type": "code",
   "execution_count": 38,
   "id": "6a6dbd72",
   "metadata": {},
   "outputs": [
    {
     "data": {
      "text/plain": [
       "338"
      ]
     },
     "execution_count": 38,
     "metadata": {},
     "output_type": "execute_result"
    }
   ],
   "source": [
    "# Cek Count diantara -323.0 and 645.0\n",
    "df_model[(df_model['Count'] > 645.0) | (df_model['Count'] < -323.0)].count()['Count']"
   ]
  },
  {
   "cell_type": "code",
   "execution_count": 39,
   "id": "79e9c046",
   "metadata": {},
   "outputs": [
    {
     "data": {
      "image/png": "[encoded data removed]",
      "text/plain": [
       "<Figure size 2100x600 with 2 Axes>"
      ]
     },
     "metadata": {},
     "output_type": "display_data"
    }
   ],
   "source": [
    "# Melakukan filtering data\n",
    "df_model = df_model[(df_model['Count'] <= 645.0) & (df_model['Count'] >= -323.0)]\n",
    "\n",
    "# Plot distribusi data sebelum dan setelah dilakukan filtering\n",
    "fig, axes = plt.subplots(1,2, figsize=(21, 6))\n",
    "sns.distplot(df['cnt'], ax=axes[0], color='blue')\n",
    "sns.distplot(df_model['Count'], ax=axes[1], color='orange')\n",
    "axes[0].set_xlabel('Count')\n",
    "axes[1].set_xlabel('Range Selected Count');"
   ]
  },
  {
   "cell_type": "code",
   "execution_count": 41,
   "id": "12b00c04",
   "metadata": {},
   "outputs": [
    {
     "data": {
      "text/plain": [
       "count    11813.000000\n",
       "mean       173.384238\n",
       "std        155.931763\n",
       "min          1.000000\n",
       "25%         38.000000\n",
       "50%        136.000000\n",
       "75%        267.000000\n",
       "max        645.000000\n",
       "Name: Count, dtype: float64"
      ]
     },
     "execution_count": 41,
     "metadata": {},
     "output_type": "execute_result"
    }
   ],
   "source": [
    "# Cek deskriptif statistik kolom 'Count' setelah filtering\n",
    "df_model['Count'].describe()"
   ]
  },
  {
   "cell_type": "markdown",
   "id": "216f62a7",
   "metadata": {},
   "source": [
    "**Clean Dataset**"
   ]
  },
  {
   "cell_type": "code",
   "execution_count": 40,
   "id": "1e66fb3e",
   "metadata": {},
   "outputs": [
    {
     "data": {
      "text/html": [
       "<div>\n",
       "<style scoped>\n",
       "    .dataframe tbody tr th:only-of-type {\n",
       "        vertical-align: middle;\n",
       "    }\n",
       "\n",
       "    .dataframe tbody tr th {\n",
       "        vertical-align: top;\n",
       "    }\n",
       "\n",
       "    .dataframe thead th {\n",
       "        text-align: right;\n",
       "    }\n",
       "</style>\n",
       "<table border=\"1\" class=\"dataframe\">\n",
       "  <thead>\n",
       "    <tr style=\"text-align: right;\">\n",
       "      <th></th>\n",
       "      <th>Humidity</th>\n",
       "      <th>Weather</th>\n",
       "      <th>Holiday</th>\n",
       "      <th>Season</th>\n",
       "      <th>Temperature</th>\n",
       "      <th>Hour</th>\n",
       "      <th>Count</th>\n",
       "      <th>Month</th>\n",
       "      <th>Year</th>\n",
       "      <th>Day</th>\n",
       "    </tr>\n",
       "  </thead>\n",
       "  <tbody>\n",
       "    <tr>\n",
       "      <th>0</th>\n",
       "      <td>0.62</td>\n",
       "      <td>1</td>\n",
       "      <td>0</td>\n",
       "      <td>4</td>\n",
       "      <td>0.36</td>\n",
       "      <td>16</td>\n",
       "      <td>250</td>\n",
       "      <td>12</td>\n",
       "      <td>2011</td>\n",
       "      <td>4</td>\n",
       "    </tr>\n",
       "    <tr>\n",
       "      <th>1</th>\n",
       "      <td>0.64</td>\n",
       "      <td>1</td>\n",
       "      <td>0</td>\n",
       "      <td>2</td>\n",
       "      <td>0.54</td>\n",
       "      <td>4</td>\n",
       "      <td>18</td>\n",
       "      <td>6</td>\n",
       "      <td>2012</td>\n",
       "      <td>6</td>\n",
       "    </tr>\n",
       "    <tr>\n",
       "      <th>2</th>\n",
       "      <td>0.53</td>\n",
       "      <td>1</td>\n",
       "      <td>0</td>\n",
       "      <td>2</td>\n",
       "      <td>0.62</td>\n",
       "      <td>23</td>\n",
       "      <td>107</td>\n",
       "      <td>6</td>\n",
       "      <td>2011</td>\n",
       "      <td>2</td>\n",
       "    </tr>\n",
       "    <tr>\n",
       "      <th>3</th>\n",
       "      <td>0.87</td>\n",
       "      <td>2</td>\n",
       "      <td>0</td>\n",
       "      <td>2</td>\n",
       "      <td>0.36</td>\n",
       "      <td>8</td>\n",
       "      <td>145</td>\n",
       "      <td>3</td>\n",
       "      <td>2012</td>\n",
       "      <td>5</td>\n",
       "    </tr>\n",
       "    <tr>\n",
       "      <th>5</th>\n",
       "      <td>0.72</td>\n",
       "      <td>1</td>\n",
       "      <td>0</td>\n",
       "      <td>4</td>\n",
       "      <td>0.46</td>\n",
       "      <td>0</td>\n",
       "      <td>45</td>\n",
       "      <td>10</td>\n",
       "      <td>2012</td>\n",
       "      <td>0</td>\n",
       "    </tr>\n",
       "  </tbody>\n",
       "</table>\n",
       "</div>"
      ],
      "text/plain": [
       "   Humidity Weather Holiday Season  Temperature  Hour  Count  Month  Year  Day\n",
       "0      0.62       1       0      4         0.36    16    250     12  2011    4\n",
       "1      0.64       1       0      2         0.54     4     18      6  2012    6\n",
       "2      0.53       1       0      2         0.62    23    107      6  2011    2\n",
       "3      0.87       2       0      2         0.36     8    145      3  2012    5\n",
       "5      0.72       1       0      4         0.46     0     45     10  2012    0"
      ]
     },
     "execution_count": 40,
     "metadata": {},
     "output_type": "execute_result"
    }
   ],
   "source": [
    "df_model.head()"
   ]
  },
  {
   "attachments": {},
   "cell_type": "markdown",
   "id": "e4101b3e",
   "metadata": {},
   "source": [
    "Setelah dilakukan pembersihan data (Data Cleaning), tersisa 11813 data yang akan digunakan untuk pemodelan."
   ]
  },
  {
   "cell_type": "markdown",
   "id": "be838918",
   "metadata": {},
   "source": [
    "## **Modeling**"
   ]
  },
  {
   "cell_type": "code",
   "execution_count": 41,
   "id": "4ccfa962",
   "metadata": {},
   "outputs": [],
   "source": [
    "# Import library untuk modeling\n",
    "\n",
    "from sklearn.model_selection import train_test_split, cross_val_score, RandomizedSearchCV, GridSearchCV, KFold\n",
    "\n",
    "import category_encoders as ce\n",
    "from sklearn.preprocessing import OneHotEncoder, OrdinalEncoder\n",
    "from sklearn.compose import ColumnTransformer\n",
    "from sklearn.pipeline import Pipeline\n",
    "\n",
    "from sklearn.linear_model import LinearRegression\n",
    "from sklearn.neighbors import KNeighborsRegressor\n",
    "from sklearn.tree import DecisionTreeRegressor\n",
    "from sklearn.ensemble import RandomForestRegressor\n",
    "from xgboost.sklearn import XGBRegressor\n",
    "from sklearn.compose import TransformedTargetRegressor\n",
    "\n",
    "from sklearn.preprocessing import StandardScaler, MinMaxScaler\n",
    "\n",
    "from sklearn.metrics import r2_score, mean_squared_error, mean_absolute_error, mean_absolute_percentage_error"
   ]
  },
  {
   "cell_type": "code",
   "execution_count": 42,
   "id": "d7c1fbed",
   "metadata": {},
   "outputs": [
    {
     "data": {
      "text/html": [
       "<div>\n",
       "<style scoped>\n",
       "    .dataframe tbody tr th:only-of-type {\n",
       "        vertical-align: middle;\n",
       "    }\n",
       "\n",
       "    .dataframe tbody tr th {\n",
       "        vertical-align: top;\n",
       "    }\n",
       "\n",
       "    .dataframe thead th {\n",
       "        text-align: right;\n",
       "    }\n",
       "</style>\n",
       "<table border=\"1\" class=\"dataframe\">\n",
       "  <thead>\n",
       "    <tr style=\"text-align: right;\">\n",
       "      <th></th>\n",
       "      <th>Humidity</th>\n",
       "      <th>Weather</th>\n",
       "      <th>Holiday</th>\n",
       "      <th>Season</th>\n",
       "      <th>Temperature</th>\n",
       "      <th>Hour</th>\n",
       "      <th>Count</th>\n",
       "      <th>Month</th>\n",
       "      <th>Year</th>\n",
       "      <th>Day</th>\n",
       "    </tr>\n",
       "  </thead>\n",
       "  <tbody>\n",
       "    <tr>\n",
       "      <th>count</th>\n",
       "      <td>11813.000000</td>\n",
       "      <td>11813.0</td>\n",
       "      <td>11813.0</td>\n",
       "      <td>11813.0</td>\n",
       "      <td>11813.000000</td>\n",
       "      <td>11813.000000</td>\n",
       "      <td>11813.000000</td>\n",
       "      <td>11813.000000</td>\n",
       "      <td>11813.000000</td>\n",
       "      <td>11813.000000</td>\n",
       "    </tr>\n",
       "    <tr>\n",
       "      <th>unique</th>\n",
       "      <td>NaN</td>\n",
       "      <td>4.0</td>\n",
       "      <td>2.0</td>\n",
       "      <td>4.0</td>\n",
       "      <td>NaN</td>\n",
       "      <td>NaN</td>\n",
       "      <td>NaN</td>\n",
       "      <td>NaN</td>\n",
       "      <td>NaN</td>\n",
       "      <td>NaN</td>\n",
       "    </tr>\n",
       "    <tr>\n",
       "      <th>top</th>\n",
       "      <td>NaN</td>\n",
       "      <td>1.0</td>\n",
       "      <td>0.0</td>\n",
       "      <td>3.0</td>\n",
       "      <td>NaN</td>\n",
       "      <td>NaN</td>\n",
       "      <td>NaN</td>\n",
       "      <td>NaN</td>\n",
       "      <td>NaN</td>\n",
       "      <td>NaN</td>\n",
       "    </tr>\n",
       "    <tr>\n",
       "      <th>freq</th>\n",
       "      <td>NaN</td>\n",
       "      <td>7802.0</td>\n",
       "      <td>11452.0</td>\n",
       "      <td>3043.0</td>\n",
       "      <td>NaN</td>\n",
       "      <td>NaN</td>\n",
       "      <td>NaN</td>\n",
       "      <td>NaN</td>\n",
       "      <td>NaN</td>\n",
       "      <td>NaN</td>\n",
       "    </tr>\n",
       "    <tr>\n",
       "      <th>mean</th>\n",
       "      <td>0.629196</td>\n",
       "      <td>NaN</td>\n",
       "      <td>NaN</td>\n",
       "      <td>NaN</td>\n",
       "      <td>0.494350</td>\n",
       "      <td>11.438585</td>\n",
       "      <td>173.384238</td>\n",
       "      <td>6.487514</td>\n",
       "      <td>2011.488360</td>\n",
       "      <td>3.014983</td>\n",
       "    </tr>\n",
       "    <tr>\n",
       "      <th>std</th>\n",
       "      <td>0.190793</td>\n",
       "      <td>NaN</td>\n",
       "      <td>NaN</td>\n",
       "      <td>NaN</td>\n",
       "      <td>0.192538</td>\n",
       "      <td>6.979256</td>\n",
       "      <td>155.931763</td>\n",
       "      <td>3.455726</td>\n",
       "      <td>0.499886</td>\n",
       "      <td>1.999457</td>\n",
       "    </tr>\n",
       "    <tr>\n",
       "      <th>min</th>\n",
       "      <td>0.080000</td>\n",
       "      <td>NaN</td>\n",
       "      <td>NaN</td>\n",
       "      <td>NaN</td>\n",
       "      <td>0.020000</td>\n",
       "      <td>0.000000</td>\n",
       "      <td>1.000000</td>\n",
       "      <td>1.000000</td>\n",
       "      <td>2011.000000</td>\n",
       "      <td>0.000000</td>\n",
       "    </tr>\n",
       "    <tr>\n",
       "      <th>25%</th>\n",
       "      <td>0.480000</td>\n",
       "      <td>NaN</td>\n",
       "      <td>NaN</td>\n",
       "      <td>NaN</td>\n",
       "      <td>0.340000</td>\n",
       "      <td>5.000000</td>\n",
       "      <td>38.000000</td>\n",
       "      <td>3.000000</td>\n",
       "      <td>2011.000000</td>\n",
       "      <td>1.000000</td>\n",
       "    </tr>\n",
       "    <tr>\n",
       "      <th>50%</th>\n",
       "      <td>0.630000</td>\n",
       "      <td>NaN</td>\n",
       "      <td>NaN</td>\n",
       "      <td>NaN</td>\n",
       "      <td>0.500000</td>\n",
       "      <td>11.000000</td>\n",
       "      <td>136.000000</td>\n",
       "      <td>6.000000</td>\n",
       "      <td>2011.000000</td>\n",
       "      <td>3.000000</td>\n",
       "    </tr>\n",
       "    <tr>\n",
       "      <th>75%</th>\n",
       "      <td>0.790000</td>\n",
       "      <td>NaN</td>\n",
       "      <td>NaN</td>\n",
       "      <td>NaN</td>\n",
       "      <td>0.660000</td>\n",
       "      <td>18.000000</td>\n",
       "      <td>267.000000</td>\n",
       "      <td>9.000000</td>\n",
       "      <td>2012.000000</td>\n",
       "      <td>5.000000</td>\n",
       "    </tr>\n",
       "    <tr>\n",
       "      <th>max</th>\n",
       "      <td>1.000000</td>\n",
       "      <td>NaN</td>\n",
       "      <td>NaN</td>\n",
       "      <td>NaN</td>\n",
       "      <td>1.000000</td>\n",
       "      <td>23.000000</td>\n",
       "      <td>645.000000</td>\n",
       "      <td>12.000000</td>\n",
       "      <td>2012.000000</td>\n",
       "      <td>6.000000</td>\n",
       "    </tr>\n",
       "  </tbody>\n",
       "</table>\n",
       "</div>"
      ],
      "text/plain": [
       "            Humidity  Weather  Holiday   Season   Temperature          Hour  \\\n",
       "count   11813.000000  11813.0  11813.0  11813.0  11813.000000  11813.000000   \n",
       "unique           NaN      4.0      2.0      4.0           NaN           NaN   \n",
       "top              NaN      1.0      0.0      3.0           NaN           NaN   \n",
       "freq             NaN   7802.0  11452.0   3043.0           NaN           NaN   \n",
       "mean        0.629196      NaN      NaN      NaN      0.494350     11.438585   \n",
       "std         0.190793      NaN      NaN      NaN      0.192538      6.979256   \n",
       "min         0.080000      NaN      NaN      NaN      0.020000      0.000000   \n",
       "25%         0.480000      NaN      NaN      NaN      0.340000      5.000000   \n",
       "50%         0.630000      NaN      NaN      NaN      0.500000     11.000000   \n",
       "75%         0.790000      NaN      NaN      NaN      0.660000     18.000000   \n",
       "max         1.000000      NaN      NaN      NaN      1.000000     23.000000   \n",
       "\n",
       "               Count         Month          Year           Day  \n",
       "count   11813.000000  11813.000000  11813.000000  11813.000000  \n",
       "unique           NaN           NaN           NaN           NaN  \n",
       "top              NaN           NaN           NaN           NaN  \n",
       "freq             NaN           NaN           NaN           NaN  \n",
       "mean      173.384238      6.487514   2011.488360      3.014983  \n",
       "std       155.931763      3.455726      0.499886      1.999457  \n",
       "min         1.000000      1.000000   2011.000000      0.000000  \n",
       "25%        38.000000      3.000000   2011.000000      1.000000  \n",
       "50%       136.000000      6.000000   2011.000000      3.000000  \n",
       "75%       267.000000      9.000000   2012.000000      5.000000  \n",
       "max       645.000000     12.000000   2012.000000      6.000000  "
      ]
     },
     "execution_count": 42,
     "metadata": {},
     "output_type": "execute_result"
    }
   ],
   "source": [
    "df_model.describe(include='all')"
   ]
  },
  {
   "cell_type": "markdown",
   "id": "db32205c",
   "metadata": {},
   "source": [
    "**Encoding**"
   ]
  },
  {
   "attachments": {},
   "cell_type": "markdown",
   "id": "01c81bed",
   "metadata": {},
   "source": [
    "Agar dapat menggunakan semua feature yang dipilih, maka feature-feature kategorikal perlu diubah menjadi feature numerikal.\n",
    "<br> Hal tersebut dapat dengan menggunakan Column Transformer untuk dapat mengubah tipe datanya, yang mana nanti dapat diaplikasikan pada pipeline model."
   ]
  },
  {
   "cell_type": "code",
   "execution_count": 50,
   "id": "7538727d",
   "metadata": {},
   "outputs": [],
   "source": [
    "# Mengubah fitur kategorikal menjadi numerikal\n",
    "\n",
    "transformer = ColumnTransformer([\n",
    "    ('One Hot', OneHotEncoder(drop='first', handle_unknown = 'ignore'), ['Season', 'Weather', 'Holiday']),\n",
    "    ('Binary', ce.BinaryEncoder(), ['Day'])\n",
    "], remainder='passthrough')"
   ]
  },
  {
   "cell_type": "markdown",
   "id": "af67ece1",
   "metadata": {},
   "source": [
    "**Data Splitting**"
   ]
  },
  {
   "cell_type": "code",
   "execution_count": 51,
   "id": "72018dd6",
   "metadata": {},
   "outputs": [],
   "source": [
    "# Memisahkan data independen variabel dengan target\n",
    "X = df_model.drop(['Count'], axis=1)\n",
    "y = df_model['Count']"
   ]
  },
  {
   "cell_type": "markdown",
   "id": "98451321",
   "metadata": {},
   "source": [
    "**Train & Test Splitting**"
   ]
  },
  {
   "cell_type": "code",
   "execution_count": 52,
   "id": "ce33a7c3",
   "metadata": {},
   "outputs": [],
   "source": [
    "# Splitting data training dan test dengan proporsi 70:30\n",
    "X_train, X_test, y_train, y_test= train_test_split(\n",
    "    X,\n",
    "    y,  \n",
    "    test_size=0.3,\n",
    "    random_state=200)"
   ]
  },
  {
   "cell_type": "markdown",
   "id": "66d99283",
   "metadata": {},
   "source": [
    "**Choose a Benchmark Model**"
   ]
  },
  {
   "cell_type": "code",
   "execution_count": 53,
   "id": "60e21071",
   "metadata": {},
   "outputs": [],
   "source": [
    "# Define algoritma yang digunakan\n",
    "lr = LinearRegression()\n",
    "knn = KNeighborsRegressor()\n",
    "dt = DecisionTreeRegressor(random_state=200)\n",
    "rf = RandomForestRegressor(random_state=200)\n",
    "xgb = XGBRegressor(random_state=200)"
   ]
  },
  {
   "cell_type": "code",
   "execution_count": 55,
   "id": "507f7662",
   "metadata": {},
   "outputs": [
    {
     "name": "stdout",
     "output_type": "stream",
     "text": [
      "Warning: No categorical columns found. Calling 'transform' will only return input data.\n",
      "Warning: No categorical columns found. Calling 'transform' will only return input data.\n",
      "Warning: No categorical columns found. Calling 'transform' will only return input data.\n",
      "Warning: No categorical columns found. Calling 'transform' will only return input data.\n",
      "Warning: No categorical columns found. Calling 'transform' will only return input data.\n",
      "[-135.79361402 -148.0091921  -140.74212445 -141.9179333  -147.12750079] TransformedTargetRegressor(func=<ufunc 'log'>, inverse_func=<ufunc 'exp'>,\n",
      "                           regressor=LinearRegression())\n",
      "Warning: No categorical columns found. Calling 'transform' will only return input data.\n",
      "Warning: No categorical columns found. Calling 'transform' will only return input data.\n",
      "Warning: No categorical columns found. Calling 'transform' will only return input data.\n",
      "Warning: No categorical columns found. Calling 'transform' will only return input data.\n",
      "Warning: No categorical columns found. Calling 'transform' will only return input data.\n",
      "[ -92.31145758 -100.23756194  -94.64580222  -95.65321862 -100.95344795] TransformedTargetRegressor(func=<ufunc 'log'>, inverse_func=<ufunc 'exp'>,\n",
      "                           regressor=LinearRegression())\n",
      "Warning: No categorical columns found. Calling 'transform' will only return input data.\n",
      "Warning: No categorical columns found. Calling 'transform' will only return input data.\n",
      "Warning: No categorical columns found. Calling 'transform' will only return input data.\n",
      "Warning: No categorical columns found. Calling 'transform' will only return input data.\n",
      "Warning: No categorical columns found. Calling 'transform' will only return input data.\n",
      "[-1.35064105 -1.45356072 -1.28851304 -1.42326993 -1.33059515] TransformedTargetRegressor(func=<ufunc 'log'>, inverse_func=<ufunc 'exp'>,\n",
      "                           regressor=LinearRegression())\n",
      "Warning: No categorical columns found. Calling 'transform' will only return input data.\n",
      "Warning: No categorical columns found. Calling 'transform' will only return input data.\n",
      "Warning: No categorical columns found. Calling 'transform' will only return input data.\n",
      "Warning: No categorical columns found. Calling 'transform' will only return input data.\n",
      "Warning: No categorical columns found. Calling 'transform' will only return input data.\n",
      "[0.21886164 0.13291534 0.20168212 0.14873018 0.13356664] TransformedTargetRegressor(func=<ufunc 'log'>, inverse_func=<ufunc 'exp'>,\n",
      "                           regressor=LinearRegression())\n",
      "Warning: No categorical columns found. Calling 'transform' will only return input data.\n",
      "Warning: No categorical columns found. Calling 'transform' will only return input data.\n",
      "Warning: No categorical columns found. Calling 'transform' will only return input data.\n",
      "Warning: No categorical columns found. Calling 'transform' will only return input data.\n",
      "Warning: No categorical columns found. Calling 'transform' will only return input data.\n",
      "[-91.67187738 -99.55335267 -97.07597335 -96.58619508 -95.7409406 ] TransformedTargetRegressor(func=<ufunc 'log'>, inverse_func=<ufunc 'exp'>,\n",
      "                           regressor=KNeighborsRegressor())\n",
      "Warning: No categorical columns found. Calling 'transform' will only return input data.\n",
      "Warning: No categorical columns found. Calling 'transform' will only return input data.\n",
      "Warning: No categorical columns found. Calling 'transform' will only return input data.\n",
      "Warning: No categorical columns found. Calling 'transform' will only return input data.\n",
      "Warning: No categorical columns found. Calling 'transform' will only return input data.\n",
      "[-59.64182323 -62.18695735 -61.62718946 -59.75148453 -60.30247499] TransformedTargetRegressor(func=<ufunc 'log'>, inverse_func=<ufunc 'exp'>,\n",
      "                           regressor=KNeighborsRegressor())\n",
      "Warning: No categorical columns found. Calling 'transform' will only return input data.\n",
      "Warning: No categorical columns found. Calling 'transform' will only return input data.\n",
      "Warning: No categorical columns found. Calling 'transform' will only return input data.\n",
      "Warning: No categorical columns found. Calling 'transform' will only return input data.\n",
      "Warning: No categorical columns found. Calling 'transform' will only return input data.\n",
      "[-0.80660048 -0.8826708  -0.82478397 -0.98260046 -0.7413552 ] TransformedTargetRegressor(func=<ufunc 'log'>, inverse_func=<ufunc 'exp'>,\n",
      "                           regressor=KNeighborsRegressor())\n",
      "Warning: No categorical columns found. Calling 'transform' will only return input data.\n",
      "Warning: No categorical columns found. Calling 'transform' will only return input data.\n",
      "Warning: No categorical columns found. Calling 'transform' will only return input data.\n",
      "Warning: No categorical columns found. Calling 'transform' will only return input data.\n",
      "Warning: No categorical columns found. Calling 'transform' will only return input data.\n",
      "[0.64400695 0.60772023 0.62020333 0.60570361 0.63310413] TransformedTargetRegressor(func=<ufunc 'log'>, inverse_func=<ufunc 'exp'>,\n",
      "                           regressor=KNeighborsRegressor())\n",
      "Warning: No categorical columns found. Calling 'transform' will only return input data.\n",
      "Warning: No categorical columns found. Calling 'transform' will only return input data.\n",
      "Warning: No categorical columns found. Calling 'transform' will only return input data.\n",
      "Warning: No categorical columns found. Calling 'transform' will only return input data.\n",
      "Warning: No categorical columns found. Calling 'transform' will only return input data.\n",
      "[-56.65539855 -62.24673792 -64.8358183  -60.26501536 -61.49542569] TransformedTargetRegressor(func=<ufunc 'log'>, inverse_func=<ufunc 'exp'>,\n",
      "                           regressor=DecisionTreeRegressor(random_state=200))\n",
      "Warning: No categorical columns found. Calling 'transform' will only return input data.\n",
      "Warning: No categorical columns found. Calling 'transform' will only return input data.\n",
      "Warning: No categorical columns found. Calling 'transform' will only return input data.\n",
      "Warning: No categorical columns found. Calling 'transform' will only return input data.\n",
      "Warning: No categorical columns found. Calling 'transform' will only return input data.\n",
      "[-34.60630886 -37.47838786 -37.63067875 -35.91527098 -36.91215369] TransformedTargetRegressor(func=<ufunc 'log'>, inverse_func=<ufunc 'exp'>,\n",
      "                           regressor=DecisionTreeRegressor(random_state=200))\n",
      "Warning: No categorical columns found. Calling 'transform' will only return input data.\n",
      "Warning: No categorical columns found. Calling 'transform' will only return input data.\n",
      "Warning: No categorical columns found. Calling 'transform' will only return input data.\n",
      "Warning: No categorical columns found. Calling 'transform' will only return input data.\n",
      "Warning: No categorical columns found. Calling 'transform' will only return input data.\n",
      "[-0.36759973 -0.45560447 -0.41432018 -0.36773743 -0.3959783 ] TransformedTargetRegressor(func=<ufunc 'log'>, inverse_func=<ufunc 'exp'>,\n",
      "                           regressor=DecisionTreeRegressor(random_state=200))\n",
      "Warning: No categorical columns found. Calling 'transform' will only return input data.\n",
      "Warning: No categorical columns found. Calling 'transform' will only return input data.\n",
      "Warning: No categorical columns found. Calling 'transform' will only return input data.\n",
      "Warning: No categorical columns found. Calling 'transform' will only return input data.\n",
      "Warning: No categorical columns found. Calling 'transform' will only return input data.\n",
      "[0.86402725 0.84663816 0.83058274 0.84649475 0.84863235] TransformedTargetRegressor(func=<ufunc 'log'>, inverse_func=<ufunc 'exp'>,\n",
      "                           regressor=DecisionTreeRegressor(random_state=200))\n",
      "Warning: No categorical columns found. Calling 'transform' will only return input data.\n",
      "Warning: No categorical columns found. Calling 'transform' will only return input data.\n",
      "Warning: No categorical columns found. Calling 'transform' will only return input data.\n",
      "Warning: No categorical columns found. Calling 'transform' will only return input data.\n",
      "Warning: No categorical columns found. Calling 'transform' will only return input data.\n",
      "[-42.37796936 -50.20580686 -46.70660526 -46.40245533 -45.821322  ] TransformedTargetRegressor(func=<ufunc 'log'>, inverse_func=<ufunc 'exp'>,\n",
      "                           regressor=RandomForestRegressor(random_state=200))\n",
      "Warning: No categorical columns found. Calling 'transform' will only return input data.\n",
      "Warning: No categorical columns found. Calling 'transform' will only return input data.\n",
      "Warning: No categorical columns found. Calling 'transform' will only return input data.\n",
      "Warning: No categorical columns found. Calling 'transform' will only return input data.\n",
      "Warning: No categorical columns found. Calling 'transform' will only return input data.\n",
      "[-26.32889194 -29.70139824 -27.84603732 -27.75752488 -27.83693303] TransformedTargetRegressor(func=<ufunc 'log'>, inverse_func=<ufunc 'exp'>,\n",
      "                           regressor=RandomForestRegressor(random_state=200))\n",
      "Warning: No categorical columns found. Calling 'transform' will only return input data.\n",
      "Warning: No categorical columns found. Calling 'transform' will only return input data.\n",
      "Warning: No categorical columns found. Calling 'transform' will only return input data.\n",
      "Warning: No categorical columns found. Calling 'transform' will only return input data.\n",
      "Warning: No categorical columns found. Calling 'transform' will only return input data.\n",
      "[-0.28498224 -0.30760142 -0.29233587 -0.2882125  -0.27069893] TransformedTargetRegressor(func=<ufunc 'log'>, inverse_func=<ufunc 'exp'>,\n",
      "                           regressor=RandomForestRegressor(random_state=200))\n",
      "Warning: No categorical columns found. Calling 'transform' will only return input data.\n",
      "Warning: No categorical columns found. Calling 'transform' will only return input data.\n",
      "Warning: No categorical columns found. Calling 'transform' will only return input data.\n",
      "Warning: No categorical columns found. Calling 'transform' will only return input data.\n",
      "Warning: No categorical columns found. Calling 'transform' will only return input data.\n",
      "[0.92392367 0.90023182 0.91208069 0.90899304 0.91596065] TransformedTargetRegressor(func=<ufunc 'log'>, inverse_func=<ufunc 'exp'>,\n",
      "                           regressor=RandomForestRegressor(random_state=200))\n",
      "Warning: No categorical columns found. Calling 'transform' will only return input data.\n",
      "Warning: No categorical columns found. Calling 'transform' will only return input data.\n",
      "Warning: No categorical columns found. Calling 'transform' will only return input data.\n",
      "Warning: No categorical columns found. Calling 'transform' will only return input data.\n",
      "Warning: No categorical columns found. Calling 'transform' will only return input data.\n",
      "[-39.61104794 -46.89279985 -43.24020468 -39.98404039 -41.88256839] TransformedTargetRegressor(func=<ufunc 'log'>, inverse_func=<ufunc 'exp'>,\n",
      "                           regressor=XGBRegressor(base_score=None, booster=None,\n",
      "                                                  callbacks=None,\n",
      "                                                  colsample_bylevel=None,\n",
      "                                                  colsample_bynode=None,\n",
      "                                                  colsample_bytree=None,\n",
      "                                                  early_stopping_rounds=None,\n",
      "                                                  enable_categorical=False,\n",
      "                                                  eval_metric=None,\n",
      "                                                  feature_types=None,\n",
      "                                                  gamma=None, gpu_id=None,\n",
      "                                                  grow_policy=None,\n",
      "                                                  importance_type=None,\n",
      "                                                  interaction_constraints=None,\n",
      "                                                  learning_rate=None,\n",
      "                                                  max_bin=None,\n",
      "                                                  max_cat_threshold=None,\n",
      "                                                  max_cat_to_onehot=None,\n",
      "                                                  max_delta_step=None,\n",
      "                                                  max_depth=None,\n",
      "                                                  max_leaves=None,\n",
      "                                                  min_child_weight=None,\n",
      "                                                  missing=nan,\n",
      "                                                  monotone_constraints=None,\n",
      "                                                  n_estimators=100, n_jobs=None,\n",
      "                                                  num_parallel_tree=None,\n",
      "                                                  predictor=None,\n",
      "                                                  random_state=200, ...))\n",
      "Warning: No categorical columns found. Calling 'transform' will only return input data.\n",
      "Warning: No categorical columns found. Calling 'transform' will only return input data.\n",
      "Warning: No categorical columns found. Calling 'transform' will only return input data.\n",
      "Warning: No categorical columns found. Calling 'transform' will only return input data.\n",
      "Warning: No categorical columns found. Calling 'transform' will only return input data.\n",
      "[-24.99752299 -27.39410496 -25.60794372 -25.04803016 -25.83980796] TransformedTargetRegressor(func=<ufunc 'log'>, inverse_func=<ufunc 'exp'>,\n",
      "                           regressor=XGBRegressor(base_score=None, booster=None,\n",
      "                                                  callbacks=None,\n",
      "                                                  colsample_bylevel=None,\n",
      "                                                  colsample_bynode=None,\n",
      "                                                  colsample_bytree=None,\n",
      "                                                  early_stopping_rounds=None,\n",
      "                                                  enable_categorical=False,\n",
      "                                                  eval_metric=None,\n",
      "                                                  feature_types=None,\n",
      "                                                  gamma=None, gpu_id=None,\n",
      "                                                  grow_policy=None,\n",
      "                                                  importance_type=None,\n",
      "                                                  interaction_constraints=None,\n",
      "                                                  learning_rate=None,\n",
      "                                                  max_bin=None,\n",
      "                                                  max_cat_threshold=None,\n",
      "                                                  max_cat_to_onehot=None,\n",
      "                                                  max_delta_step=None,\n",
      "                                                  max_depth=None,\n",
      "                                                  max_leaves=None,\n",
      "                                                  min_child_weight=None,\n",
      "                                                  missing=nan,\n",
      "                                                  monotone_constraints=None,\n",
      "                                                  n_estimators=100, n_jobs=None,\n",
      "                                                  num_parallel_tree=None,\n",
      "                                                  predictor=None,\n",
      "                                                  random_state=200, ...))\n",
      "Warning: No categorical columns found. Calling 'transform' will only return input data.\n",
      "Warning: No categorical columns found. Calling 'transform' will only return input data.\n",
      "Warning: No categorical columns found. Calling 'transform' will only return input data.\n",
      "Warning: No categorical columns found. Calling 'transform' will only return input data.\n",
      "Warning: No categorical columns found. Calling 'transform' will only return input data.\n",
      "[-0.26549    -0.2745656  -0.27046826 -0.25816204 -0.25472693] TransformedTargetRegressor(func=<ufunc 'log'>, inverse_func=<ufunc 'exp'>,\n",
      "                           regressor=XGBRegressor(base_score=None, booster=None,\n",
      "                                                  callbacks=None,\n",
      "                                                  colsample_bylevel=None,\n",
      "                                                  colsample_bynode=None,\n",
      "                                                  colsample_bytree=None,\n",
      "                                                  early_stopping_rounds=None,\n",
      "                                                  enable_categorical=False,\n",
      "                                                  eval_metric=None,\n",
      "                                                  feature_types=None,\n",
      "                                                  gamma=None, gpu_id=None,\n",
      "                                                  grow_policy=None,\n",
      "                                                  importance_type=None,\n",
      "                                                  interaction_constraints=None,\n",
      "                                                  learning_rate=None,\n",
      "                                                  max_bin=None,\n",
      "                                                  max_cat_threshold=None,\n",
      "                                                  max_cat_to_onehot=None,\n",
      "                                                  max_delta_step=None,\n",
      "                                                  max_depth=None,\n",
      "                                                  max_leaves=None,\n",
      "                                                  min_child_weight=None,\n",
      "                                                  missing=nan,\n",
      "                                                  monotone_constraints=None,\n",
      "                                                  n_estimators=100, n_jobs=None,\n",
      "                                                  num_parallel_tree=None,\n",
      "                                                  predictor=None,\n",
      "                                                  random_state=200, ...))\n",
      "Warning: No categorical columns found. Calling 'transform' will only return input data.\n",
      "Warning: No categorical columns found. Calling 'transform' will only return input data.\n",
      "Warning: No categorical columns found. Calling 'transform' will only return input data.\n",
      "Warning: No categorical columns found. Calling 'transform' will only return input data.\n",
      "Warning: No categorical columns found. Calling 'transform' will only return input data.\n",
      "[0.93353363 0.91296449 0.92464655 0.93242811 0.92978756] TransformedTargetRegressor(func=<ufunc 'log'>, inverse_func=<ufunc 'exp'>,\n",
      "                           regressor=XGBRegressor(base_score=None, booster=None,\n",
      "                                                  callbacks=None,\n",
      "                                                  colsample_bylevel=None,\n",
      "                                                  colsample_bynode=None,\n",
      "                                                  colsample_bytree=None,\n",
      "                                                  early_stopping_rounds=None,\n",
      "                                                  enable_categorical=False,\n",
      "                                                  eval_metric=None,\n",
      "                                                  feature_types=None,\n",
      "                                                  gamma=None, gpu_id=None,\n",
      "                                                  grow_policy=None,\n",
      "                                                  importance_type=None,\n",
      "                                                  interaction_constraints=None,\n",
      "                                                  learning_rate=None,\n",
      "                                                  max_bin=None,\n",
      "                                                  max_cat_threshold=None,\n",
      "                                                  max_cat_to_onehot=None,\n",
      "                                                  max_delta_step=None,\n",
      "                                                  max_depth=None,\n",
      "                                                  max_leaves=None,\n",
      "                                                  min_child_weight=None,\n",
      "                                                  missing=nan,\n",
      "                                                  monotone_constraints=None,\n",
      "                                                  n_estimators=100, n_jobs=None,\n",
      "                                                  num_parallel_tree=None,\n",
      "                                                  predictor=None,\n",
      "                                                  random_state=200, ...))\n"
     ]
    }
   ],
   "source": [
    "# Pemodelan dilakukan dalam skala logaritmik, namun kemudian di-inverse kembali untuk interpretasi\n",
    "log_lr = TransformedTargetRegressor(lr, func=np.log, inverse_func=np.exp)\n",
    "log_knn = TransformedTargetRegressor(knn, func=np.log, inverse_func=np.exp)\n",
    "log_dt = TransformedTargetRegressor(dt, func=np.log, inverse_func=np.exp)\n",
    "log_rf = TransformedTargetRegressor(rf, func=np.log, inverse_func=np.exp)\n",
    "log_xgb = TransformedTargetRegressor(xgb, func=np.log, inverse_func=np.exp)\n",
    "\n",
    "# Scaling data\n",
    "scaler = StandardScaler()\n",
    "\n",
    "# Kandidat algoritma\n",
    "models = [log_lr, log_knn, log_dt, log_rf, log_xgb]\n",
    "\n",
    "score_rmse = []\n",
    "nilai_mean_rmse = []\n",
    "nilai_std_rmse = []\n",
    "\n",
    "score_mae = []\n",
    "nilai_mean_mae = []\n",
    "nilai_std_mae = []\n",
    "\n",
    "score_mape = []\n",
    "nilai_mean_mape = []\n",
    "nilai_std_mape = []\n",
    "\n",
    "score_r2 = []\n",
    "nilai_mean_r2 = []\n",
    "nilai_std_r2 = []\n",
    "\n",
    "score_msle = []\n",
    "nilai_mean_msle = []\n",
    "nilai_std_msle = []\n",
    "\n",
    "# Mencari algoritma terbaik berdasarkan nilai MAE, MAPE, RMSE\n",
    "for i in models:\n",
    "    \n",
    "    crossval = KFold(n_splits=5, shuffle=True, random_state=1)\n",
    "\n",
    "    estimator = Pipeline([\n",
    "        ('preprocessing', transformer),\n",
    "        ('scaler', scaler),\n",
    "        ('model', i)\n",
    "    ])\n",
    "\n",
    "    # RMSE\n",
    "    model_cv_rmse = cross_val_score(\n",
    "        estimator, \n",
    "        X_train, \n",
    "        y_train, \n",
    "        cv=crossval, \n",
    "        scoring='neg_root_mean_squared_error', \n",
    "        error_score='raise'\n",
    "        )\n",
    "\n",
    "    print(model_cv_rmse, i)\n",
    "\n",
    "    score_rmse.append(model_cv_rmse)\n",
    "    nilai_mean_rmse.append(model_cv_rmse.mean())\n",
    "    nilai_std_rmse.append(model_cv_rmse.std())\n",
    "    \n",
    "    # MAE\n",
    "    model_cv_mae = cross_val_score(\n",
    "        estimator, \n",
    "        X_train, \n",
    "        y_train, \n",
    "        cv=crossval, \n",
    "        scoring='neg_mean_absolute_error', \n",
    "        error_score='raise'\n",
    "        )\n",
    "\n",
    "    print(model_cv_mae, i)\n",
    "\n",
    "    score_mae.append(model_cv_mae)\n",
    "    nilai_mean_mae.append(model_cv_mae.mean())\n",
    "    nilai_std_mae.append(model_cv_mae.std())\n",
    "\n",
    "    # MAPE\n",
    "    model_cv_mape = cross_val_score(\n",
    "        estimator, \n",
    "        X_train, \n",
    "        y_train, \n",
    "        cv=crossval, \n",
    "        scoring='neg_mean_absolute_percentage_error', \n",
    "        error_score='raise'\n",
    "        )\n",
    "\n",
    "    print(model_cv_mape, i)\n",
    "\n",
    "    score_mape.append(model_cv_mape)\n",
    "    nilai_mean_mape.append(model_cv_mape.mean())\n",
    "    nilai_std_mape.append(model_cv_mape.std())\n",
    "\n",
    "    # R2\n",
    "    model_cv_r2 = cross_val_score(\n",
    "        estimator, \n",
    "        X_train, \n",
    "        y_train, \n",
    "        cv=crossval, \n",
    "        scoring='r2', \n",
    "        error_score='raise'\n",
    "        )\n",
    "    \n",
    "    print(model_cv_r2, i)\n",
    "\n",
    "    score_r2.append(model_cv_mape)\n",
    "    nilai_mean_r2.append(model_cv_mape.mean())\n",
    "    nilai_std_r2.append(model_cv_mape.std())"
   ]
  },
  {
   "cell_type": "code",
   "execution_count": 56,
   "id": "41b8151d",
   "metadata": {},
   "outputs": [
    {
     "data": {
      "text/html": [
       "<div>\n",
       "<style scoped>\n",
       "    .dataframe tbody tr th:only-of-type {\n",
       "        vertical-align: middle;\n",
       "    }\n",
       "\n",
       "    .dataframe tbody tr th {\n",
       "        vertical-align: top;\n",
       "    }\n",
       "\n",
       "    .dataframe thead th {\n",
       "        text-align: right;\n",
       "    }\n",
       "</style>\n",
       "<table border=\"1\" class=\"dataframe\">\n",
       "  <thead>\n",
       "    <tr style=\"text-align: right;\">\n",
       "      <th></th>\n",
       "      <th>Model</th>\n",
       "      <th>Mean_MAE</th>\n",
       "      <th>STD_MAE</th>\n",
       "      <th>Mean_MAPE</th>\n",
       "      <th>STD_MAPE</th>\n",
       "      <th>Mean_RMSE</th>\n",
       "      <th>STD_RMSE</th>\n",
       "      <th>Mean_Rsquare</th>\n",
       "      <th>STD_Rsquare</th>\n",
       "    </tr>\n",
       "  </thead>\n",
       "  <tbody>\n",
       "    <tr>\n",
       "      <th>0</th>\n",
       "      <td>Linear Regression</td>\n",
       "      <td>-96.760298</td>\n",
       "      <td>3.321529</td>\n",
       "      <td>-1.369316</td>\n",
       "      <td>0.060639</td>\n",
       "      <td>-142.718073</td>\n",
       "      <td>4.470609</td>\n",
       "      <td>-1.369316</td>\n",
       "      <td>0.060639</td>\n",
       "    </tr>\n",
       "    <tr>\n",
       "      <th>1</th>\n",
       "      <td>KNN Regressor</td>\n",
       "      <td>-60.701986</td>\n",
       "      <td>1.024514</td>\n",
       "      <td>-0.847602</td>\n",
       "      <td>0.081172</td>\n",
       "      <td>-96.125668</td>\n",
       "      <td>2.563141</td>\n",
       "      <td>-0.847602</td>\n",
       "      <td>0.081172</td>\n",
       "    </tr>\n",
       "    <tr>\n",
       "      <th>2</th>\n",
       "      <td>DecisionTree Regressor</td>\n",
       "      <td>-36.508560</td>\n",
       "      <td>1.125447</td>\n",
       "      <td>-0.400248</td>\n",
       "      <td>0.032874</td>\n",
       "      <td>-61.099679</td>\n",
       "      <td>2.678783</td>\n",
       "      <td>-0.400248</td>\n",
       "      <td>0.032874</td>\n",
       "    </tr>\n",
       "    <tr>\n",
       "      <th>3</th>\n",
       "      <td>RandomForest Regressor</td>\n",
       "      <td>-27.894157</td>\n",
       "      <td>1.071488</td>\n",
       "      <td>-0.288766</td>\n",
       "      <td>0.011904</td>\n",
       "      <td>-46.302832</td>\n",
       "      <td>2.491689</td>\n",
       "      <td>-0.288766</td>\n",
       "      <td>0.011904</td>\n",
       "    </tr>\n",
       "    <tr>\n",
       "      <th>4</th>\n",
       "      <td>XGBoost Regressor</td>\n",
       "      <td>-25.777482</td>\n",
       "      <td>0.870234</td>\n",
       "      <td>-0.264683</td>\n",
       "      <td>0.007395</td>\n",
       "      <td>-42.322132</td>\n",
       "      <td>2.636047</td>\n",
       "      <td>-0.264683</td>\n",
       "      <td>0.007395</td>\n",
       "    </tr>\n",
       "  </tbody>\n",
       "</table>\n",
       "</div>"
      ],
      "text/plain": [
       "                    Model   Mean_MAE   STD_MAE  Mean_MAPE  STD_MAPE  \\\n",
       "0       Linear Regression -96.760298  3.321529  -1.369316  0.060639   \n",
       "1           KNN Regressor -60.701986  1.024514  -0.847602  0.081172   \n",
       "2  DecisionTree Regressor -36.508560  1.125447  -0.400248  0.032874   \n",
       "3  RandomForest Regressor -27.894157  1.071488  -0.288766  0.011904   \n",
       "4       XGBoost Regressor -25.777482  0.870234  -0.264683  0.007395   \n",
       "\n",
       "    Mean_RMSE  STD_RMSE  Mean_Rsquare  STD_Rsquare  \n",
       "0 -142.718073  4.470609     -1.369316     0.060639  \n",
       "1  -96.125668  2.563141     -0.847602     0.081172  \n",
       "2  -61.099679  2.678783     -0.400248     0.032874  \n",
       "3  -46.302832  2.491689     -0.288766     0.011904  \n",
       "4  -42.322132  2.636047     -0.264683     0.007395  "
      ]
     },
     "execution_count": 56,
     "metadata": {},
     "output_type": "execute_result"
    }
   ],
   "source": [
    "# Evaluasi hasil dari 5 kandidat algoritma yang digunakan\n",
    "pd.DataFrame({\n",
    "    'Model': ['Linear Regression', 'KNN Regressor', 'DecisionTree Regressor', 'RandomForest Regressor', 'XGBoost Regressor'],\n",
    "    'Mean_MAE': nilai_mean_mae,\n",
    "    'STD_MAE': nilai_std_mae,\n",
    "    'Mean_MAPE': nilai_mean_mape,\n",
    "    'STD_MAPE': nilai_std_mape,\n",
    "    'Mean_RMSE': nilai_mean_rmse,\n",
    "    'STD_RMSE': nilai_std_rmse,\n",
    "    'Mean_Rsquare' : nilai_mean_r2,\n",
    "    'STD_Rsquare' : nilai_std_r2\n",
    "})"
   ]
  },
  {
   "attachments": {},
   "cell_type": "markdown",
   "id": "f1d2889b",
   "metadata": {},
   "source": [
    "Terdapat perbedaan cukup signifikan antara nilai RMSE dan MAE, di mana nilai RMSE lebih tinggi karena nilai residu atau error-nya dipangkatkan terlebih dahulu sebelum dirata-ratakan.\n",
    "\n",
    "Hal ini menyebabkan RMSE akan memberikan 'weight' yang lebih tinggi untuk nilai error yang besar. Atau terdapat nilai-nilai error yang besar, yang dihasilkan oleh semua algoritma yang digunakan, sehingga ada perbedaan signifikan antara nilai RMSE dan MAE.\n",
    "\n",
    "Berdasarkan nilai keempat matriks tersebut, XGBoost adalah model terbaik, karena memiliki performa nilai MAE (25.777482) yang lebih baik dibandingkan model lainnya. Berikutnya kita akan melakukan prediksi pada Test Set dengan menggunakan benchmark model yaitu XGBoost. "
   ]
  },
  {
   "attachments": {},
   "cell_type": "markdown",
   "id": "e4675098",
   "metadata": {},
   "source": [
    "**Teori Singkat Mengenai XGBoost**"
   ]
  },
  {
   "attachments": {},
   "cell_type": "markdown",
   "id": "09e1ea57",
   "metadata": {},
   "source": [
    "Gradient boosting adalah algoritma supervised learning yang dapat memprediksi variabel target secara akurat dengan mengkombinasikan perkiraan satu set model yang lebih sederhana dan lemah. Saat menggunakannya untuk regresi, pembelajaran yang lemah adalah regression tree, setiap regression tree memetakan input data point ke salah satu daun yang berisi continuous score.\n",
    "\n",
    "Untuk gradient boosting, dapat dianalogikan dengan sekelompok orang dimana setiap orangnya mencoba menyelesaikan kesalahan yang dibuat oleh seseorang yang sebelumnya telah melakukan keputusan. Kemudian mereka akan mencoba menemukan solusi terbaik untuk masalah tersebut.\n",
    "\n",
    "Extreme Gradient Boosting (XGBoost) merupakan salah satu model yang termasuk ke dalam *similar type ensemble method*. Di dalam algoritma ini, *Decision Trees* dibuat dalam bentuk yang sekuensial, dimana bobot memiliki peran yang penting dalam XGBoost. Bobot diterapkan kepada semua variabel independen yang nantinya akan dimasukkan ke dalam *Decision Trees* untuk memprediksi hasil. Bobot dari variabel yang diprediksi salah akan ditambahkan dan variabel ini akan dimasukkan ke dalam *Decision Tree* yang berikutnya [(sumber teori)](https://www.geeksforgeeks.org/xgboost/). Model ini termasuk ke dalam *non-interpretable* model dikarenakan kita tidak dapat mengetahui variabel mana yang salah diprediksi. XGBoost memiliki kinerja yang baik karena termasuk model yang robust untuk berbagai jenis data.\n",
    "\n",
    "XGBoost juga meminimalkan fungsi objektif yang diregularisasi (L1 dan L2) yang menggabungkan convex loss function (berdasarkan selisih antara output target dan prediksi) dan penalty term untuk kompleksitas model (dengan kata lain, fungsi regression tree). Trainingnya akan berulang, menambahkan tree baru yang memprediksi error dari tree sebelumnya, yang dikombinasikan dengan pohon sebelumnya untuk menghasilkan hasil/nilai prediksi akhir. Disebut gradient boosting karena menggunakan algoritma turunan dari gradient untuk meminimalkan kerugian saat menambahkan model baru.\n",
    "\n",
    "Penjelasan lain terkait XGBoost : https://towardsdatascience.com/xgboost-theory-and-practice-fb8912930ad6\n",
    "\n"
   ]
  },
  {
   "cell_type": "markdown",
   "id": "3fc328e4",
   "metadata": {},
   "source": [
    "**Predict to Test Set with the Benchmark Model**"
   ]
  },
  {
   "cell_type": "code",
   "execution_count": 57,
   "id": "3896d272",
   "metadata": {},
   "outputs": [
    {
     "name": "stdout",
     "output_type": "stream",
     "text": [
      "Warning: No categorical columns found. Calling 'transform' will only return input data.\n"
     ]
    },
    {
     "data": {
      "text/html": [
       "<div>\n",
       "<style scoped>\n",
       "    .dataframe tbody tr th:only-of-type {\n",
       "        vertical-align: middle;\n",
       "    }\n",
       "\n",
       "    .dataframe tbody tr th {\n",
       "        vertical-align: top;\n",
       "    }\n",
       "\n",
       "    .dataframe thead th {\n",
       "        text-align: right;\n",
       "    }\n",
       "</style>\n",
       "<table border=\"1\" class=\"dataframe\">\n",
       "  <thead>\n",
       "    <tr style=\"text-align: right;\">\n",
       "      <th></th>\n",
       "      <th>MAE</th>\n",
       "      <th>MAPE</th>\n",
       "      <th>RMSE</th>\n",
       "      <th>Rsquare</th>\n",
       "    </tr>\n",
       "  </thead>\n",
       "  <tbody>\n",
       "    <tr>\n",
       "      <th>XGB</th>\n",
       "      <td>25.774804</td>\n",
       "      <td>0.435109</td>\n",
       "      <td>40.800221</td>\n",
       "      <td>0.930386</td>\n",
       "    </tr>\n",
       "  </tbody>\n",
       "</table>\n",
       "</div>"
      ],
      "text/plain": [
       "           MAE      MAPE       RMSE   Rsquare\n",
       "XGB  25.774804  0.435109  40.800221  0.930386"
      ]
     },
     "execution_count": 57,
     "metadata": {},
     "output_type": "execute_result"
    }
   ],
   "source": [
    "# Benchmark model terbaik\n",
    "models = {\n",
    "    'XGB': XGBRegressor(random_state=200),\n",
    "}\n",
    "\n",
    "score_mae = []\n",
    "score_mape = []\n",
    "score_rmse = []\n",
    "score_r2 = []\n",
    "\n",
    "# Prediksi pada test set\n",
    "for i in models:\n",
    "\n",
    "    model = Pipeline([\n",
    "        ('preprocessing', transformer),\n",
    "        ('scaler', scaler),\n",
    "        ('model', models[i])\n",
    "        ])\n",
    "\n",
    "    model.fit(X_train, y_train)\n",
    "    y_pred = model.predict(X_test)\n",
    "    score_mae.append(mean_absolute_error(y_test, y_pred))\n",
    "    score_mape.append(mean_absolute_percentage_error(y_test, y_pred))\n",
    "    score_rmse.append(np.sqrt(mean_squared_error(y_test, y_pred)))\n",
    "    score_r2.append(r2_score(y_test, y_pred))\n",
    "\n",
    "score_before_tuning = pd.DataFrame({'MAE': score_mae, 'MAPE': score_mape, 'RMSE': score_rmse, 'Rsquare': score_r2}, index=models.keys())\n",
    "score_before_tuning"
   ]
  },
  {
   "attachments": {},
   "cell_type": "markdown",
   "id": "710b9632",
   "metadata": {},
   "source": [
    "Ketika dilakukan prediksi pada test set, performa XGBoost terlihat cukup baik dan tidak memiliki berbedaan signifikan dengan train set. Sehingga, dapat diartikan bahwa model tidak mengalami overfitting atau underfitting."
   ]
  },
  {
   "cell_type": "markdown",
   "id": "235e81dc",
   "metadata": {},
   "source": [
    "**Hyperparameter Tuning**"
   ]
  },
  {
   "cell_type": "markdown",
   "id": "c0c99be7",
   "metadata": {},
   "source": [
    "Selanjutnya, kita akan melakukan hyperparameter tuning pada model XGBoost dengan harapan dapat meningkatkan performa model.\n",
    "\n",
    "Berikut ini panduan dan beberapa tips untuk XGBoost Hyperparameter Tuning :\n",
    "\n",
    "https://towardsdatascience.com/xgboost-fine-tune-and-optimize-your-model-23d996fab663\n",
    "\n",
    "https://www.analyticsvidhya.com/blog/2016/03/complete-guide-parameter-tuning-xgboost-with-codes-python/"
   ]
  },
  {
   "cell_type": "code",
   "execution_count": 58,
   "id": "5a5f6caa",
   "metadata": {},
   "outputs": [],
   "source": [
    "# Kedalaman pohon. Semakin dalam kemungkinan meningkatkan performance, namun juga kompleksitas dan kemungkinan overfit.\n",
    "# value integer > 0. Defaultnya 6.\n",
    "max_depth = list(np.arange(5, 16)) # 5 - 15\n",
    "\n",
    "# Learning rate. Menentukan ukuran step pada tiap iterasi sementara model mengoptimalkan ke arah tujuannya.\n",
    "# Learning rate rendah membuat komputasi lebih lambat, dan perlu lebih banyak putaran untuk mencapai pengurangan di\n",
    "# residual error yang sama seperti model dengan learning rate tinggi. Namun akan mengoptimalkan peluang untuk mencapai best optimum.\n",
    "# Nilainya 0 - 1. Defaultnya 0,3.\n",
    "learning_rate = list(np.arange(1, 10)/10) # 0.1 - 0.9\n",
    "\n",
    "# Jumlah pohon di ensemble. Ekuivalen dengan total round dari boosting.\n",
    "# value integer > 0. Defaultnya 100.\n",
    "n_estimators = list(np.arange(100, 300)) # 100 - 299\n",
    "\n",
    "# Jumlah feature yang digunakan untuk tiap pohon (% dari total kolom train set). Mewakili kolom yang akan diambil samplenya\n",
    "# secara acak untuk tiap tree. Kemungkinan dapat meningkatkan overfitting.\n",
    "# value antara 0 - 1. Defaultnya 1.\n",
    "colsample_bytree = list(np.arange(1, 10)/10) # 0.1 - 0.9\n",
    "\n",
    "# Jumlah baris tiap pohon (% dari total baris train set). Mewakili feaction observations yang akan dijadikan sample per tree.\n",
    "# Nilai lebih rendah dapat mencegah overfitting tapi bisa menyebabkan underfitting.\n",
    "# value antara 0 - 1. Defaultnya 1.\n",
    "subsample = list(np.arange(1, 10)/10) # 0.1 - 0.9\n",
    "\n",
    "# Alpha. L1 regularization pada weights (Lasso Regression). Dapat meningkatkan speed performance saat featurenya banyak.\n",
    "# Semakin besar nilainya, semakin konservatif/simpel modelnya\n",
    "# Defaultnya 0.\n",
    "reg_alpha = list(np.logspace(-1, 1, 10)) # 0.1 - 10\n",
    "\n",
    "# Lambda. L2 regulatization pada weights (Ridge Regression). Dapat menurunkan overfitting.\n",
    "# Defaultnya 1.\n",
    "reg_lambda = list(np.logspace(-1, 1, 10)) # 0.1 - 10\n",
    "\n",
    "# Gamma (min_impurity_decrease). Pseudo-regulatization parameter, bergantung pada parameter lainnya.\n",
    "# Semakin besar nilainya, semakin konservatif/simpel modelnya.\n",
    "# Integer berapapun. Defaultnya 0.\n",
    "gamma = list(np.arange(5, 16)) # 5 - 15\n",
    "\n",
    "# Hyperparam space XGboost\n",
    "hyperparam_space_xgb = {\n",
    "    'model__max_depth': max_depth, \n",
    "    'model__learning_rate': learning_rate,\n",
    "    'model__n_estimators': n_estimators,\n",
    "    'model__subsample': subsample,\n",
    "    'model__gamma': gamma,\n",
    "    'model__colsample_bytree': colsample_bytree,\n",
    "    'model__reg_alpha': reg_alpha,\n",
    "    'model__reg_lambda': reg_lambda\n",
    "}"
   ]
  },
  {
   "cell_type": "code",
   "execution_count": 77,
   "id": "5f635962",
   "metadata": {},
   "outputs": [],
   "source": [
    "# Benchmark model dengan hyperparameter tuning\n",
    "xgb = XGBRegressor(random_state=200, verbosity=0)\n",
    "\n",
    "# Membuat algorithm chains\n",
    "estimator_xgb = Pipeline([\n",
    "        ('preprocessing', transformer),\n",
    "        ('scaler', scaler),\n",
    "        ('model', xgb)\n",
    "        ])\n",
    "\n",
    "crossval = KFold(n_splits=5, shuffle=True, random_state=1)\n",
    "\n",
    "# Hyperparameter tuning\n",
    "random_xgb = RandomizedSearchCV(\n",
    "    estimator_xgb, \n",
    "    param_distributions = hyperparam_space_xgb,\n",
    "    n_iter = 50,\n",
    "    cv = crossval, \n",
    "    scoring = ['neg_mean_absolute_error', 'neg_mean_absolute_percentage_error', 'neg_root_mean_squared_error'], \n",
    "    n_jobs = -1,\n",
    "    refit = 'neg_root_mean_squared_error', # Hanya bisa memilih salah stau metric untuk optimisasi\n",
    "    random_state = 200  \n",
    ")"
   ]
  },
  {
   "cell_type": "code",
   "execution_count": 78,
   "id": "0cff5057",
   "metadata": {},
   "outputs": [
    {
     "name": "stdout",
     "output_type": "stream",
     "text": [
      "Warning: No categorical columns found. Calling 'transform' will only return input data.\n"
     ]
    },
    {
     "data": {
      "text/html": [
       "<style>#sk-container-id-2 {color: black;background-color: white;}#sk-container-id-2 pre{padding: 0;}#sk-container-id-2 div.sk-toggleable {background-color: white;}#sk-container-id-2 label.sk-toggleable__label {cursor: pointer;display: block;width: 100%;margin-bottom: 0;padding: 0.3em;box-sizing: border-box;text-align: center;}#sk-container-id-2 label.sk-toggleable__label-arrow:before {content: \"▸\";float: left;margin-right: 0.25em;color: #696969;}#sk-container-id-2 label.sk-toggleable__label-arrow:hover:before {color: black;}#sk-container-id-2 div.sk-estimator:hover label.sk-toggleable__label-arrow:before {color: black;}#sk-container-id-2 div.sk-toggleable__content {max-height: 0;max-width: 0;overflow: hidden;text-align: left;background-color: #f0f8ff;}#sk-container-id-2 div.sk-toggleable__content pre {margin: 0.2em;color: black;border-radius: 0.25em;background-color: #f0f8ff;}#sk-container-id-2 input.sk-toggleable__control:checked~div.sk-toggleable__content {max-height: 200px;max-width: 100%;overflow: auto;}#sk-container-id-2 input.sk-toggleable__control:checked~label.sk-toggleable__label-arrow:before {content: \"▾\";}#sk-container-id-2 div.sk-estimator input.sk-toggleable__control:checked~label.sk-toggleable__label {background-color: #d4ebff;}#sk-container-id-2 div.sk-label input.sk-toggleable__control:checked~label.sk-toggleable__label {background-color: #d4ebff;}#sk-container-id-2 input.sk-hidden--visually {border: 0;clip: rect(1px 1px 1px 1px);clip: rect(1px, 1px, 1px, 1px);height: 1px;margin: -1px;overflow: hidden;padding: 0;position: absolute;width: 1px;}#sk-container-id-2 div.sk-estimator {font-family: monospace;background-color: #f0f8ff;border: 1px dotted black;border-radius: 0.25em;box-sizing: border-box;margin-bottom: 0.5em;}#sk-container-id-2 div.sk-estimator:hover {background-color: #d4ebff;}#sk-container-id-2 div.sk-parallel-item::after {content: \"\";width: 100%;border-bottom: 1px solid gray;flex-grow: 1;}#sk-container-id-2 div.sk-label:hover label.sk-toggleable__label {background-color: #d4ebff;}#sk-container-id-2 div.sk-serial::before {content: \"\";position: absolute;border-left: 1px solid gray;box-sizing: border-box;top: 0;bottom: 0;left: 50%;z-index: 0;}#sk-container-id-2 div.sk-serial {display: flex;flex-direction: column;align-items: center;background-color: white;padding-right: 0.2em;padding-left: 0.2em;position: relative;}#sk-container-id-2 div.sk-item {position: relative;z-index: 1;}#sk-container-id-2 div.sk-parallel {display: flex;align-items: stretch;justify-content: center;background-color: white;position: relative;}#sk-container-id-2 div.sk-item::before, #sk-container-id-2 div.sk-parallel-item::before {content: \"\";position: absolute;border-left: 1px solid gray;box-sizing: border-box;top: 0;bottom: 0;left: 50%;z-index: -1;}#sk-container-id-2 div.sk-parallel-item {display: flex;flex-direction: column;z-index: 1;position: relative;background-color: white;}#sk-container-id-2 div.sk-parallel-item:first-child::after {align-self: flex-end;width: 50%;}#sk-container-id-2 div.sk-parallel-item:last-child::after {align-self: flex-start;width: 50%;}#sk-container-id-2 div.sk-parallel-item:only-child::after {width: 0;}#sk-container-id-2 div.sk-dashed-wrapped {border: 1px dashed gray;margin: 0 0.4em 0.5em 0.4em;box-sizing: border-box;padding-bottom: 0.4em;background-color: white;}#sk-container-id-2 div.sk-label label {font-family: monospace;font-weight: bold;display: inline-block;line-height: 1.2em;}#sk-container-id-2 div.sk-label-container {text-align: center;}#sk-container-id-2 div.sk-container {/* jupyter's `normalize.less` sets `[hidden] { display: none; }` but bootstrap.min.css set `[hidden] { display: none !important; }` so we also need the `!important` here to be able to override the default hidden behavior on the sphinx rendered scikit-learn.org. See: https://github.com/scikit-learn/scikit-learn/issues/21755 */display: inline-block !important;position: relative;}#sk-container-id-2 div.sk-text-repr-fallback {display: none;}</style><div id=\"sk-container-id-2\" class=\"sk-top-container\"><div class=\"sk-text-repr-fallback\"><pre>RandomizedSearchCV(cv=KFold(n_splits=5, random_state=1, shuffle=True),\n",
       "                   estimator=Pipeline(steps=[(&#x27;preprocessing&#x27;,\n",
       "                                              ColumnTransformer(remainder=&#x27;passthrough&#x27;,\n",
       "                                                                transformers=[(&#x27;One &#x27;\n",
       "                                                                               &#x27;Hot&#x27;,\n",
       "                                                                               OneHotEncoder(drop=&#x27;first&#x27;,\n",
       "                                                                                             handle_unknown=&#x27;ignore&#x27;),\n",
       "                                                                               [&#x27;Season&#x27;,\n",
       "                                                                                &#x27;Weather&#x27;,\n",
       "                                                                                &#x27;Holiday&#x27;]),\n",
       "                                                                              (&#x27;Binary&#x27;,\n",
       "                                                                               BinaryEncoder(),\n",
       "                                                                               [&#x27;Day&#x27;])])),\n",
       "                                             (&#x27;scaler&#x27;, StandardScaler()),\n",
       "                                             (&#x27;model&#x27;,\n",
       "                                              XGBRegressor...\n",
       "                                                              0.2782559402207124,\n",
       "                                                              0.46415888336127786,\n",
       "                                                              0.774263682681127,\n",
       "                                                              1.291549665014884,\n",
       "                                                              2.1544346900318834,\n",
       "                                                              3.593813663804626,\n",
       "                                                              5.994842503189409,\n",
       "                                                              10.0],\n",
       "                                        &#x27;model__subsample&#x27;: [0.1, 0.2, 0.3, 0.4,\n",
       "                                                             0.5, 0.6, 0.7, 0.8,\n",
       "                                                             0.9]},\n",
       "                   random_state=200, refit=&#x27;neg_root_mean_squared_error&#x27;,\n",
       "                   scoring=[&#x27;neg_mean_absolute_error&#x27;,\n",
       "                            &#x27;neg_mean_absolute_percentage_error&#x27;,\n",
       "                            &#x27;neg_root_mean_squared_error&#x27;])</pre><b>In a Jupyter environment, please rerun this cell to show the HTML representation or trust the notebook. <br />On GitHub, the HTML representation is unable to render, please try loading this page with nbviewer.org.</b></div><div class=\"sk-container\" hidden><div class=\"sk-item sk-dashed-wrapped\"><div class=\"sk-label-container\"><div class=\"sk-label sk-toggleable\"><input class=\"sk-toggleable__control sk-hidden--visually\" id=\"sk-estimator-id-12\" type=\"checkbox\" ><label for=\"sk-estimator-id-12\" class=\"sk-toggleable__label sk-toggleable__label-arrow\">RandomizedSearchCV</label><div class=\"sk-toggleable__content\"><pre>RandomizedSearchCV(cv=KFold(n_splits=5, random_state=1, shuffle=True),\n",
       "                   estimator=Pipeline(steps=[(&#x27;preprocessing&#x27;,\n",
       "                                              ColumnTransformer(remainder=&#x27;passthrough&#x27;,\n",
       "                                                                transformers=[(&#x27;One &#x27;\n",
       "                                                                               &#x27;Hot&#x27;,\n",
       "                                                                               OneHotEncoder(drop=&#x27;first&#x27;,\n",
       "                                                                                             handle_unknown=&#x27;ignore&#x27;),\n",
       "                                                                               [&#x27;Season&#x27;,\n",
       "                                                                                &#x27;Weather&#x27;,\n",
       "                                                                                &#x27;Holiday&#x27;]),\n",
       "                                                                              (&#x27;Binary&#x27;,\n",
       "                                                                               BinaryEncoder(),\n",
       "                                                                               [&#x27;Day&#x27;])])),\n",
       "                                             (&#x27;scaler&#x27;, StandardScaler()),\n",
       "                                             (&#x27;model&#x27;,\n",
       "                                              XGBRegressor...\n",
       "                                                              0.2782559402207124,\n",
       "                                                              0.46415888336127786,\n",
       "                                                              0.774263682681127,\n",
       "                                                              1.291549665014884,\n",
       "                                                              2.1544346900318834,\n",
       "                                                              3.593813663804626,\n",
       "                                                              5.994842503189409,\n",
       "                                                              10.0],\n",
       "                                        &#x27;model__subsample&#x27;: [0.1, 0.2, 0.3, 0.4,\n",
       "                                                             0.5, 0.6, 0.7, 0.8,\n",
       "                                                             0.9]},\n",
       "                   random_state=200, refit=&#x27;neg_root_mean_squared_error&#x27;,\n",
       "                   scoring=[&#x27;neg_mean_absolute_error&#x27;,\n",
       "                            &#x27;neg_mean_absolute_percentage_error&#x27;,\n",
       "                            &#x27;neg_root_mean_squared_error&#x27;])</pre></div></div></div><div class=\"sk-parallel\"><div class=\"sk-parallel-item\"><div class=\"sk-item\"><div class=\"sk-label-container\"><div class=\"sk-label sk-toggleable\"><input class=\"sk-toggleable__control sk-hidden--visually\" id=\"sk-estimator-id-13\" type=\"checkbox\" ><label for=\"sk-estimator-id-13\" class=\"sk-toggleable__label sk-toggleable__label-arrow\">estimator: Pipeline</label><div class=\"sk-toggleable__content\"><pre>Pipeline(steps=[(&#x27;preprocessing&#x27;,\n",
       "                 ColumnTransformer(remainder=&#x27;passthrough&#x27;,\n",
       "                                   transformers=[(&#x27;One Hot&#x27;,\n",
       "                                                  OneHotEncoder(drop=&#x27;first&#x27;,\n",
       "                                                                handle_unknown=&#x27;ignore&#x27;),\n",
       "                                                  [&#x27;Season&#x27;, &#x27;Weather&#x27;,\n",
       "                                                   &#x27;Holiday&#x27;]),\n",
       "                                                 (&#x27;Binary&#x27;, BinaryEncoder(),\n",
       "                                                  [&#x27;Day&#x27;])])),\n",
       "                (&#x27;scaler&#x27;, StandardScaler()),\n",
       "                (&#x27;model&#x27;,\n",
       "                 XGBRegressor(base_score=None, booster=None, callbacks=None,\n",
       "                              colsample_bylevel=None, colsample_by...\n",
       "                              feature_types=None, gamma=None, gpu_id=None,\n",
       "                              grow_policy=None, importance_type=None,\n",
       "                              interaction_constraints=None, learning_rate=None,\n",
       "                              max_bin=None, max_cat_threshold=None,\n",
       "                              max_cat_to_onehot=None, max_delta_step=None,\n",
       "                              max_depth=None, max_leaves=None,\n",
       "                              min_child_weight=None, missing=nan,\n",
       "                              monotone_constraints=None, n_estimators=100,\n",
       "                              n_jobs=None, num_parallel_tree=None,\n",
       "                              predictor=None, random_state=200, ...))])</pre></div></div></div><div class=\"sk-serial\"><div class=\"sk-item\"><div class=\"sk-serial\"><div class=\"sk-item sk-dashed-wrapped\"><div class=\"sk-label-container\"><div class=\"sk-label sk-toggleable\"><input class=\"sk-toggleable__control sk-hidden--visually\" id=\"sk-estimator-id-14\" type=\"checkbox\" ><label for=\"sk-estimator-id-14\" class=\"sk-toggleable__label sk-toggleable__label-arrow\">preprocessing: ColumnTransformer</label><div class=\"sk-toggleable__content\"><pre>ColumnTransformer(remainder=&#x27;passthrough&#x27;,\n",
       "                  transformers=[(&#x27;One Hot&#x27;,\n",
       "                                 OneHotEncoder(drop=&#x27;first&#x27;,\n",
       "                                               handle_unknown=&#x27;ignore&#x27;),\n",
       "                                 [&#x27;Season&#x27;, &#x27;Weather&#x27;, &#x27;Holiday&#x27;]),\n",
       "                                (&#x27;Binary&#x27;, BinaryEncoder(), [&#x27;Day&#x27;])])</pre></div></div></div><div class=\"sk-parallel\"><div class=\"sk-parallel-item\"><div class=\"sk-item\"><div class=\"sk-label-container\"><div class=\"sk-label sk-toggleable\"><input class=\"sk-toggleable__control sk-hidden--visually\" id=\"sk-estimator-id-15\" type=\"checkbox\" ><label for=\"sk-estimator-id-15\" class=\"sk-toggleable__label sk-toggleable__label-arrow\">One Hot</label><div class=\"sk-toggleable__content\"><pre>[&#x27;Season&#x27;, &#x27;Weather&#x27;, &#x27;Holiday&#x27;]</pre></div></div></div><div class=\"sk-serial\"><div class=\"sk-item\"><div class=\"sk-estimator sk-toggleable\"><input class=\"sk-toggleable__control sk-hidden--visually\" id=\"sk-estimator-id-16\" type=\"checkbox\" ><label for=\"sk-estimator-id-16\" class=\"sk-toggleable__label sk-toggleable__label-arrow\">OneHotEncoder</label><div class=\"sk-toggleable__content\"><pre>OneHotEncoder(drop=&#x27;first&#x27;, handle_unknown=&#x27;ignore&#x27;)</pre></div></div></div></div></div></div><div class=\"sk-parallel-item\"><div class=\"sk-item\"><div class=\"sk-label-container\"><div class=\"sk-label sk-toggleable\"><input class=\"sk-toggleable__control sk-hidden--visually\" id=\"sk-estimator-id-17\" type=\"checkbox\" ><label for=\"sk-estimator-id-17\" class=\"sk-toggleable__label sk-toggleable__label-arrow\">Binary</label><div class=\"sk-toggleable__content\"><pre>[&#x27;Day&#x27;]</pre></div></div></div><div class=\"sk-serial\"><div class=\"sk-item\"><div class=\"sk-estimator sk-toggleable\"><input class=\"sk-toggleable__control sk-hidden--visually\" id=\"sk-estimator-id-18\" type=\"checkbox\" ><label for=\"sk-estimator-id-18\" class=\"sk-toggleable__label sk-toggleable__label-arrow\">BinaryEncoder</label><div class=\"sk-toggleable__content\"><pre>BinaryEncoder()</pre></div></div></div></div></div></div><div class=\"sk-parallel-item\"><div class=\"sk-item\"><div class=\"sk-label-container\"><div class=\"sk-label sk-toggleable\"><input class=\"sk-toggleable__control sk-hidden--visually\" id=\"sk-estimator-id-19\" type=\"checkbox\" ><label for=\"sk-estimator-id-19\" class=\"sk-toggleable__label sk-toggleable__label-arrow\">remainder</label><div class=\"sk-toggleable__content\"><pre>[&#x27;Humidity&#x27;, &#x27;Temperature&#x27;, &#x27;Hour&#x27;, &#x27;Month&#x27;, &#x27;Year&#x27;]</pre></div></div></div><div class=\"sk-serial\"><div class=\"sk-item\"><div class=\"sk-estimator sk-toggleable\"><input class=\"sk-toggleable__control sk-hidden--visually\" id=\"sk-estimator-id-20\" type=\"checkbox\" ><label for=\"sk-estimator-id-20\" class=\"sk-toggleable__label sk-toggleable__label-arrow\">passthrough</label><div class=\"sk-toggleable__content\"><pre>passthrough</pre></div></div></div></div></div></div></div></div><div class=\"sk-item\"><div class=\"sk-estimator sk-toggleable\"><input class=\"sk-toggleable__control sk-hidden--visually\" id=\"sk-estimator-id-21\" type=\"checkbox\" ><label for=\"sk-estimator-id-21\" class=\"sk-toggleable__label sk-toggleable__label-arrow\">StandardScaler</label><div class=\"sk-toggleable__content\"><pre>StandardScaler()</pre></div></div></div><div class=\"sk-item\"><div class=\"sk-estimator sk-toggleable\"><input class=\"sk-toggleable__control sk-hidden--visually\" id=\"sk-estimator-id-22\" type=\"checkbox\" ><label for=\"sk-estimator-id-22\" class=\"sk-toggleable__label sk-toggleable__label-arrow\">XGBRegressor</label><div class=\"sk-toggleable__content\"><pre>XGBRegressor(base_score=None, booster=None, callbacks=None,\n",
       "             colsample_bylevel=None, colsample_bynode=None,\n",
       "             colsample_bytree=None, early_stopping_rounds=None,\n",
       "             enable_categorical=False, eval_metric=None, feature_types=None,\n",
       "             gamma=None, gpu_id=None, grow_policy=None, importance_type=None,\n",
       "             interaction_constraints=None, learning_rate=None, max_bin=None,\n",
       "             max_cat_threshold=None, max_cat_to_onehot=None,\n",
       "             max_delta_step=None, max_depth=None, max_leaves=None,\n",
       "             min_child_weight=None, missing=nan, monotone_constraints=None,\n",
       "             n_estimators=100, n_jobs=None, num_parallel_tree=None,\n",
       "             predictor=None, random_state=200, ...)</pre></div></div></div></div></div></div></div></div></div></div></div></div>"
      ],
      "text/plain": [
       "RandomizedSearchCV(cv=KFold(n_splits=5, random_state=1, shuffle=True),\n",
       "                   estimator=Pipeline(steps=[('preprocessing',\n",
       "                                              ColumnTransformer(remainder='passthrough',\n",
       "                                                                transformers=[('One '\n",
       "                                                                               'Hot',\n",
       "                                                                               OneHotEncoder(drop='first',\n",
       "                                                                                             handle_unknown='ignore'),\n",
       "                                                                               ['Season',\n",
       "                                                                                'Weather',\n",
       "                                                                                'Holiday']),\n",
       "                                                                              ('Binary',\n",
       "                                                                               BinaryEncoder(),\n",
       "                                                                               ['Day'])])),\n",
       "                                             ('scaler', StandardScaler()),\n",
       "                                             ('model',\n",
       "                                              XGBRegressor...\n",
       "                                                              0.2782559402207124,\n",
       "                                                              0.46415888336127786,\n",
       "                                                              0.774263682681127,\n",
       "                                                              1.291549665014884,\n",
       "                                                              2.1544346900318834,\n",
       "                                                              3.593813663804626,\n",
       "                                                              5.994842503189409,\n",
       "                                                              10.0],\n",
       "                                        'model__subsample': [0.1, 0.2, 0.3, 0.4,\n",
       "                                                             0.5, 0.6, 0.7, 0.8,\n",
       "                                                             0.9]},\n",
       "                   random_state=200, refit='neg_root_mean_squared_error',\n",
       "                   scoring=['neg_mean_absolute_error',\n",
       "                            'neg_mean_absolute_percentage_error',\n",
       "                            'neg_root_mean_squared_error'])"
      ]
     },
     "execution_count": 78,
     "metadata": {},
     "output_type": "execute_result"
    }
   ],
   "source": [
    "# Fitting data training untuk mencari parameter terbaik\n",
    "random_xgb.fit(X_train, y_train)"
   ]
  },
  {
   "cell_type": "code",
   "execution_count": 79,
   "metadata": {},
   "outputs": [
    {
     "name": "stdout",
     "output_type": "stream",
     "text": [
      "XGBoost\n",
      "Best_score: -41.445958246369024\n",
      "Best_params: {'model__subsample': 0.7, 'model__reg_lambda': 0.46415888336127786, 'model__reg_alpha': 0.774263682681127, 'model__n_estimators': 113, 'model__max_depth': 7, 'model__learning_rate': 0.1, 'model__gamma': 7, 'model__colsample_bytree': 0.9}\n"
     ]
    }
   ],
   "source": [
    "# Cek skor dan params terbaik\n",
    "print('XGBoost')\n",
    "print('Best_score:', random_xgb.best_score_)\n",
    "print('Best_params:', random_xgb.best_params_)"
   ]
  },
  {
   "cell_type": "code",
   "execution_count": 82,
   "id": "fee76b09",
   "metadata": {},
   "outputs": [
    {
     "data": {
      "text/html": [
       "<div>\n",
       "<style scoped>\n",
       "    .dataframe tbody tr th:only-of-type {\n",
       "        vertical-align: middle;\n",
       "    }\n",
       "\n",
       "    .dataframe tbody tr th {\n",
       "        vertical-align: top;\n",
       "    }\n",
       "\n",
       "    .dataframe thead th {\n",
       "        text-align: right;\n",
       "    }\n",
       "</style>\n",
       "<table border=\"1\" class=\"dataframe\">\n",
       "  <thead>\n",
       "    <tr style=\"text-align: right;\">\n",
       "      <th></th>\n",
       "      <th>mean_fit_time</th>\n",
       "      <th>std_fit_time</th>\n",
       "      <th>mean_score_time</th>\n",
       "      <th>std_score_time</th>\n",
       "      <th>param_model__subsample</th>\n",
       "      <th>param_model__reg_lambda</th>\n",
       "      <th>param_model__reg_alpha</th>\n",
       "      <th>param_model__n_estimators</th>\n",
       "      <th>param_model__max_depth</th>\n",
       "      <th>param_model__learning_rate</th>\n",
       "      <th>...</th>\n",
       "      <th>std_test_neg_mean_absolute_percentage_error</th>\n",
       "      <th>rank_test_neg_mean_absolute_percentage_error</th>\n",
       "      <th>split0_test_neg_root_mean_squared_error</th>\n",
       "      <th>split1_test_neg_root_mean_squared_error</th>\n",
       "      <th>split2_test_neg_root_mean_squared_error</th>\n",
       "      <th>split3_test_neg_root_mean_squared_error</th>\n",
       "      <th>split4_test_neg_root_mean_squared_error</th>\n",
       "      <th>mean_test_neg_root_mean_squared_error</th>\n",
       "      <th>std_test_neg_root_mean_squared_error</th>\n",
       "      <th>rank_test_neg_root_mean_squared_error</th>\n",
       "    </tr>\n",
       "  </thead>\n",
       "  <tbody>\n",
       "    <tr>\n",
       "      <th>33</th>\n",
       "      <td>1.329150</td>\n",
       "      <td>0.018838</td>\n",
       "      <td>0.018897</td>\n",
       "      <td>0.003500</td>\n",
       "      <td>0.7</td>\n",
       "      <td>0.464159</td>\n",
       "      <td>0.774264</td>\n",
       "      <td>113</td>\n",
       "      <td>7</td>\n",
       "      <td>0.1</td>\n",
       "      <td>...</td>\n",
       "      <td>0.010719</td>\n",
       "      <td>1</td>\n",
       "      <td>-38.899615</td>\n",
       "      <td>-44.092032</td>\n",
       "      <td>-42.944082</td>\n",
       "      <td>-39.976996</td>\n",
       "      <td>-41.317066</td>\n",
       "      <td>-41.445958</td>\n",
       "      <td>1.892322</td>\n",
       "      <td>1</td>\n",
       "    </tr>\n",
       "    <tr>\n",
       "      <th>9</th>\n",
       "      <td>2.080104</td>\n",
       "      <td>0.020750</td>\n",
       "      <td>0.026300</td>\n",
       "      <td>0.003488</td>\n",
       "      <td>0.9</td>\n",
       "      <td>1.29155</td>\n",
       "      <td>0.278256</td>\n",
       "      <td>192</td>\n",
       "      <td>8</td>\n",
       "      <td>0.2</td>\n",
       "      <td>...</td>\n",
       "      <td>0.019514</td>\n",
       "      <td>2</td>\n",
       "      <td>-39.550996</td>\n",
       "      <td>-44.725753</td>\n",
       "      <td>-43.850557</td>\n",
       "      <td>-38.758500</td>\n",
       "      <td>-42.740727</td>\n",
       "      <td>-41.925307</td>\n",
       "      <td>2.361356</td>\n",
       "      <td>2</td>\n",
       "    </tr>\n",
       "    <tr>\n",
       "      <th>3</th>\n",
       "      <td>3.972410</td>\n",
       "      <td>0.060802</td>\n",
       "      <td>0.057378</td>\n",
       "      <td>0.003563</td>\n",
       "      <td>0.7</td>\n",
       "      <td>10.0</td>\n",
       "      <td>2.154435</td>\n",
       "      <td>261</td>\n",
       "      <td>13</td>\n",
       "      <td>0.1</td>\n",
       "      <td>...</td>\n",
       "      <td>0.017437</td>\n",
       "      <td>7</td>\n",
       "      <td>-41.280627</td>\n",
       "      <td>-45.488436</td>\n",
       "      <td>-45.123078</td>\n",
       "      <td>-40.500124</td>\n",
       "      <td>-43.895669</td>\n",
       "      <td>-43.257587</td>\n",
       "      <td>2.018706</td>\n",
       "      <td>3</td>\n",
       "    </tr>\n",
       "    <tr>\n",
       "      <th>26</th>\n",
       "      <td>2.338177</td>\n",
       "      <td>0.035010</td>\n",
       "      <td>0.026301</td>\n",
       "      <td>0.003026</td>\n",
       "      <td>0.4</td>\n",
       "      <td>10.0</td>\n",
       "      <td>0.464159</td>\n",
       "      <td>269</td>\n",
       "      <td>6</td>\n",
       "      <td>0.3</td>\n",
       "      <td>...</td>\n",
       "      <td>0.015456</td>\n",
       "      <td>8</td>\n",
       "      <td>-42.159949</td>\n",
       "      <td>-46.229855</td>\n",
       "      <td>-45.305626</td>\n",
       "      <td>-40.847683</td>\n",
       "      <td>-44.309260</td>\n",
       "      <td>-43.770475</td>\n",
       "      <td>1.991584</td>\n",
       "      <td>4</td>\n",
       "    </tr>\n",
       "    <tr>\n",
       "      <th>46</th>\n",
       "      <td>2.024663</td>\n",
       "      <td>0.028024</td>\n",
       "      <td>0.022302</td>\n",
       "      <td>0.002441</td>\n",
       "      <td>0.8</td>\n",
       "      <td>2.154435</td>\n",
       "      <td>0.774264</td>\n",
       "      <td>266</td>\n",
       "      <td>6</td>\n",
       "      <td>0.4</td>\n",
       "      <td>...</td>\n",
       "      <td>0.046640</td>\n",
       "      <td>12</td>\n",
       "      <td>-41.002671</td>\n",
       "      <td>-46.990811</td>\n",
       "      <td>-46.099439</td>\n",
       "      <td>-41.980938</td>\n",
       "      <td>-45.706522</td>\n",
       "      <td>-44.356076</td>\n",
       "      <td>2.395473</td>\n",
       "      <td>5</td>\n",
       "    </tr>\n",
       "  </tbody>\n",
       "</table>\n",
       "<p>5 rows × 37 columns</p>\n",
       "</div>"
      ],
      "text/plain": [
       "    mean_fit_time  std_fit_time  mean_score_time  std_score_time  \\\n",
       "33       1.329150      0.018838         0.018897        0.003500   \n",
       "9        2.080104      0.020750         0.026300        0.003488   \n",
       "3        3.972410      0.060802         0.057378        0.003563   \n",
       "26       2.338177      0.035010         0.026301        0.003026   \n",
       "46       2.024663      0.028024         0.022302        0.002441   \n",
       "\n",
       "   param_model__subsample param_model__reg_lambda param_model__reg_alpha  \\\n",
       "33                    0.7                0.464159               0.774264   \n",
       "9                     0.9                 1.29155               0.278256   \n",
       "3                     0.7                    10.0               2.154435   \n",
       "26                    0.4                    10.0               0.464159   \n",
       "46                    0.8                2.154435               0.774264   \n",
       "\n",
       "   param_model__n_estimators param_model__max_depth  \\\n",
       "33                       113                      7   \n",
       "9                        192                      8   \n",
       "3                        261                     13   \n",
       "26                       269                      6   \n",
       "46                       266                      6   \n",
       "\n",
       "   param_model__learning_rate  ...  \\\n",
       "33                        0.1  ...   \n",
       "9                         0.2  ...   \n",
       "3                         0.1  ...   \n",
       "26                        0.3  ...   \n",
       "46                        0.4  ...   \n",
       "\n",
       "   std_test_neg_mean_absolute_percentage_error  \\\n",
       "33                                    0.010719   \n",
       "9                                     0.019514   \n",
       "3                                     0.017437   \n",
       "26                                    0.015456   \n",
       "46                                    0.046640   \n",
       "\n",
       "   rank_test_neg_mean_absolute_percentage_error  \\\n",
       "33                                            1   \n",
       "9                                             2   \n",
       "3                                             7   \n",
       "26                                            8   \n",
       "46                                           12   \n",
       "\n",
       "   split0_test_neg_root_mean_squared_error  \\\n",
       "33                              -38.899615   \n",
       "9                               -39.550996   \n",
       "3                               -41.280627   \n",
       "26                              -42.159949   \n",
       "46                              -41.002671   \n",
       "\n",
       "    split1_test_neg_root_mean_squared_error  \\\n",
       "33                               -44.092032   \n",
       "9                                -44.725753   \n",
       "3                                -45.488436   \n",
       "26                               -46.229855   \n",
       "46                               -46.990811   \n",
       "\n",
       "    split2_test_neg_root_mean_squared_error  \\\n",
       "33                               -42.944082   \n",
       "9                                -43.850557   \n",
       "3                                -45.123078   \n",
       "26                               -45.305626   \n",
       "46                               -46.099439   \n",
       "\n",
       "    split3_test_neg_root_mean_squared_error  \\\n",
       "33                               -39.976996   \n",
       "9                                -38.758500   \n",
       "3                                -40.500124   \n",
       "26                               -40.847683   \n",
       "46                               -41.980938   \n",
       "\n",
       "    split4_test_neg_root_mean_squared_error  \\\n",
       "33                               -41.317066   \n",
       "9                                -42.740727   \n",
       "3                                -43.895669   \n",
       "26                               -44.309260   \n",
       "46                               -45.706522   \n",
       "\n",
       "    mean_test_neg_root_mean_squared_error  \\\n",
       "33                             -41.445958   \n",
       "9                              -41.925307   \n",
       "3                              -43.257587   \n",
       "26                             -43.770475   \n",
       "46                             -44.356076   \n",
       "\n",
       "    std_test_neg_root_mean_squared_error  \\\n",
       "33                              1.892322   \n",
       "9                               2.361356   \n",
       "3                               2.018706   \n",
       "26                              1.991584   \n",
       "46                              2.395473   \n",
       "\n",
       "    rank_test_neg_root_mean_squared_error  \n",
       "33                                      1  \n",
       "9                                       2  \n",
       "3                                       3  \n",
       "26                                      4  \n",
       "46                                      5  \n",
       "\n",
       "[5 rows x 37 columns]"
      ]
     },
     "execution_count": 82,
     "metadata": {},
     "output_type": "execute_result"
    }
   ],
   "source": [
    "# Melihat hasil tuning dalam bentuk dataframe. Diurutkan berdasarkan MAE, MAPE, RMSE\n",
    "pd.DataFrame(random_xgb.cv_results_).sort_values(by=['rank_test_neg_root_mean_squared_error', 'rank_test_neg_mean_absolute_error', 'rank_test_neg_mean_absolute_percentage_error']).head()"
   ]
  },
  {
   "cell_type": "markdown",
   "id": "f2b9b3b4",
   "metadata": {},
   "source": [
    "**Predict Test Set With Tuned Model**"
   ]
  },
  {
   "cell_type": "code",
   "execution_count": 83,
   "id": "3256f9e4",
   "metadata": {},
   "outputs": [
    {
     "name": "stdout",
     "output_type": "stream",
     "text": [
      "Warning: No categorical columns found. Calling 'transform' will only return input data.\n"
     ]
    },
    {
     "data": {
      "text/html": [
       "<div>\n",
       "<style scoped>\n",
       "    .dataframe tbody tr th:only-of-type {\n",
       "        vertical-align: middle;\n",
       "    }\n",
       "\n",
       "    .dataframe tbody tr th {\n",
       "        vertical-align: top;\n",
       "    }\n",
       "\n",
       "    .dataframe thead th {\n",
       "        text-align: right;\n",
       "    }\n",
       "</style>\n",
       "<table border=\"1\" class=\"dataframe\">\n",
       "  <thead>\n",
       "    <tr style=\"text-align: right;\">\n",
       "      <th></th>\n",
       "      <th>MAE</th>\n",
       "      <th>MAPE</th>\n",
       "      <th>RMSE</th>\n",
       "    </tr>\n",
       "  </thead>\n",
       "  <tbody>\n",
       "    <tr>\n",
       "      <th>XGB</th>\n",
       "      <td>25.082641</td>\n",
       "      <td>0.386078</td>\n",
       "      <td>40.336543</td>\n",
       "    </tr>\n",
       "  </tbody>\n",
       "</table>\n",
       "</div>"
      ],
      "text/plain": [
       "           MAE      MAPE       RMSE\n",
       "XGB  25.082641  0.386078  40.336543"
      ]
     },
     "execution_count": 83,
     "metadata": {},
     "output_type": "execute_result"
    }
   ],
   "source": [
    "# Model XGBoost\n",
    "model = {'XGB': XGBRegressor(random_state=200)}\n",
    "\n",
    "# Define model terhadap estimator terbaik\n",
    "xgb_tuning = random_xgb.best_estimator_\n",
    "\n",
    "# Fitting model\n",
    "xgb_tuning.fit(X_train, y_train)\n",
    "\n",
    "# Predict test set\n",
    "y_pred_xgb_tuning = xgb_tuning.predict(X_test)\n",
    "\n",
    "# Simpan nilai metrics MAE & MAPE setelah tuning\n",
    "mae_xgb_tuning = mean_absolute_error(y_test, y_pred_xgb_tuning)\n",
    "mape_xgb_tuning = mean_absolute_percentage_error(y_test, y_pred_xgb_tuning)\n",
    "rmse_xgb_tuning = np.sqrt(mean_squared_error(y_test, y_pred_xgb_tuning))\n",
    "\n",
    "score_after_tuning = pd.DataFrame({'MAE': mae_xgb_tuning, 'MAPE': mape_xgb_tuning, 'RMSE': rmse_xgb_tuning}, index=model.keys())\n",
    "score_after_tuning"
   ]
  },
  {
   "cell_type": "markdown",
   "id": "c5b0313e",
   "metadata": {},
   "source": [
    "**Performance Comparison**\n",
    "\n",
    "Perbandingan performa model XGBoost sebelum dan sesudah dilakukan hyperparameter tuning."
   ]
  },
  {
   "cell_type": "code",
   "execution_count": 84,
   "id": "fb810f85",
   "metadata": {},
   "outputs": [
    {
     "data": {
      "text/html": [
       "<div>\n",
       "<style scoped>\n",
       "    .dataframe tbody tr th:only-of-type {\n",
       "        vertical-align: middle;\n",
       "    }\n",
       "\n",
       "    .dataframe tbody tr th {\n",
       "        vertical-align: top;\n",
       "    }\n",
       "\n",
       "    .dataframe thead th {\n",
       "        text-align: right;\n",
       "    }\n",
       "</style>\n",
       "<table border=\"1\" class=\"dataframe\">\n",
       "  <thead>\n",
       "    <tr style=\"text-align: right;\">\n",
       "      <th></th>\n",
       "      <th>MAE</th>\n",
       "      <th>MAPE</th>\n",
       "      <th>RMSE</th>\n",
       "      <th>Rsquare</th>\n",
       "    </tr>\n",
       "  </thead>\n",
       "  <tbody>\n",
       "    <tr>\n",
       "      <th>XGB</th>\n",
       "      <td>25.774804</td>\n",
       "      <td>0.435109</td>\n",
       "      <td>40.800221</td>\n",
       "      <td>0.930386</td>\n",
       "    </tr>\n",
       "  </tbody>\n",
       "</table>\n",
       "</div>"
      ],
      "text/plain": [
       "           MAE      MAPE       RMSE   Rsquare\n",
       "XGB  25.774804  0.435109  40.800221  0.930386"
      ]
     },
     "execution_count": 84,
     "metadata": {},
     "output_type": "execute_result"
    }
   ],
   "source": [
    "# Sebelum hyperparameter tuning\n",
    "pd.DataFrame(score_before_tuning.loc['XGB']).T"
   ]
  },
  {
   "cell_type": "code",
   "execution_count": 85,
   "id": "03f39498",
   "metadata": {},
   "outputs": [
    {
     "data": {
      "text/html": [
       "<div>\n",
       "<style scoped>\n",
       "    .dataframe tbody tr th:only-of-type {\n",
       "        vertical-align: middle;\n",
       "    }\n",
       "\n",
       "    .dataframe tbody tr th {\n",
       "        vertical-align: top;\n",
       "    }\n",
       "\n",
       "    .dataframe thead th {\n",
       "        text-align: right;\n",
       "    }\n",
       "</style>\n",
       "<table border=\"1\" class=\"dataframe\">\n",
       "  <thead>\n",
       "    <tr style=\"text-align: right;\">\n",
       "      <th></th>\n",
       "      <th>MAE</th>\n",
       "      <th>MAPE</th>\n",
       "      <th>RMSE</th>\n",
       "    </tr>\n",
       "  </thead>\n",
       "  <tbody>\n",
       "    <tr>\n",
       "      <th>XGB</th>\n",
       "      <td>25.082641</td>\n",
       "      <td>0.386078</td>\n",
       "      <td>40.336543</td>\n",
       "    </tr>\n",
       "  </tbody>\n",
       "</table>\n",
       "</div>"
      ],
      "text/plain": [
       "           MAE      MAPE       RMSE\n",
       "XGB  25.082641  0.386078  40.336543"
      ]
     },
     "execution_count": 85,
     "metadata": {},
     "output_type": "execute_result"
    }
   ],
   "source": [
    "score_after_tuning"
   ]
  },
  {
   "attachments": {},
   "cell_type": "markdown",
   "id": "03e778ff",
   "metadata": {},
   "source": [
    "Dapat dilihat bahwa setelah dilakukan hyperparameter tuning, model mengalami peningkatan performa.\n",
    "\n",
    "- MAE, MAPE & RMSE sebelum tuning: 25.774804, 0.435109, 40.800221\n",
    "- MAE, MAPE & RMSE setelah tuning: 25.082641, 0.386078, 40.336543"
   ]
  },
  {
   "cell_type": "code",
   "execution_count": 86,
   "id": "68d21b43",
   "metadata": {},
   "outputs": [
    {
     "data": {
      "image/png": "[encoded data removed]",
      "text/plain": [
       "<Figure size 1400x800 with 1 Axes>"
      ]
     },
     "metadata": {},
     "output_type": "display_data"
    }
   ],
   "source": [
    "plt.figure(figsize=(14, 8))\n",
    "plot = sns.scatterplot(x=y_test, y=y_pred_xgb_tuning).set(title='Actual vs. Prediction Count', \n",
    "                                               xlabel='Actual Count', \n",
    "                                               ylabel='Predicted Count');"
   ]
  },
  {
   "cell_type": "markdown",
   "id": "acb72bd6",
   "metadata": {},
   "source": [
    "Dari scatterplot diatas, terlihat bahwa hasil prediksi yang diperoleh cukup baik. Namun masih terdapat kemungkinan bias."
   ]
  },
  {
   "cell_type": "markdown",
   "id": "08e32697",
   "metadata": {},
   "source": [
    "# Conclusion & Recommendation"
   ]
  },
  {
   "attachments": {},
   "cell_type": "markdown",
   "id": "ae5cbf84",
   "metadata": {},
   "source": [
    "Berdasarkan pemodelan yang telah dilakukan, fitur 'Hour' merupakan fitur yang paling berpengaruh terhadap 'Count'. \n",
    "\n",
    "Untuk matriks evaluasi yang digunakan adalah RMSE, MAE, dan MAPE. Nilai RMSE yang dihasilkan setelah hyperparameter tuning adalah 40.336543. Sehingga dapat disimpulkan bahwa, model akan digunakan untuk memperkirakan penyewa sepeda pada rentang nilai sesuai model yang dilatih (maksimal Count 645).\n",
    "\n",
    "Maka perkiraan penyewa dapat meleset kurang lebih 40 orang dari total keseluruhan. Namun dapat terjadi kesalahan lebih jauh juga karena masih terdapat bias yang terlihat dari visualisasi data prediksi dan aktual. Bias dapat terjadi karena masih kurangnya fitur pada dataset untuk merepresentasikan keadaan dimana orang akan memutuskan untuk menyewa sepeda, seperti lokasi station, adanya event tertentu, dan lain - lain."
   ]
  },
  {
   "attachments": {},
   "cell_type": "markdown",
   "id": "88439914",
   "metadata": {},
   "source": [
    "Rekomendasi yang dapat dilakukan untuk pengembangan model yang lebih baik, seperti :\n",
    "\n",
    " 1. Penambahan fitur yang lebih korelatif dengan target (`Count`) seperti diadakannya event khusus, selain itu dapat dipertimbangkan juga mengenai jarak lokasi station dengan lokasi perkantoran, sekolah, atau tempat wisata. Dimana merupakan tempat yang cukup strategis karena area-area tersebut merupakan area yang cukup padat dilalui orang-orang serta kebutuhan untuk bisa sampai tujuan tepat waktu tanpa terlambat.\n",
    " \n",
    " 2. Melakukan penambahan data. Jika terdapat data lebih banyak dibandingkan dataset yang digunakan saat ini, dirasa dapat dianalisis dengan lebih baik lagi. Dapat juga digunakan model yang lebih kompleks untuk proses pemodelannya untuk dibandingan dan dicari model dengan error yang paling sedikit, serta hal tersebut dapat membantu dalam meningkatkan akurasi prediksi dari model.\n",
    " \n",
    " 3. Model yang sudah dibuat juga dapat dimanfaatkan untuk melakukan pengembangan lainnya. Seperti dalam pembuatan model untuk memprediksi harga rental, atau dapat juga digunakan untuk pembuatan model dalam memprediksi total unit sepeda yang disewa pada lokasi tertentu. Dimana kedepannya dapat dianalisa sebagai pertimbangan untuk menambah stasiun sepeda di lokasi-lokasi yang strategis."
   ]
  },
  {
   "cell_type": "markdown",
   "id": "e57a3564",
   "metadata": {},
   "source": [
    "# Save Model"
   ]
  },
  {
   "cell_type": "code",
   "execution_count": 98,
   "id": "759431f1",
   "metadata": {},
   "outputs": [
    {
     "name": "stdout",
     "output_type": "stream",
     "text": [
      "Warning: No categorical columns found. Calling 'transform' will only return input data.\n"
     ]
    }
   ],
   "source": [
    "# Save model\n",
    "import pickle\n",
    "\n",
    "# final_model = Pipeline([('preprocess', transformer), ('model', XGBRegressor())])\n",
    "# final_model.fit(X_train, y_train)\n",
    "final_model = random_xgb.best_estimator_.fit(X_train, y_train)\n",
    "\n",
    "pickle.dump(final_model, open('Create_XGB_Model_BikeSharing.sav', 'wb'))"
   ]
  },
  {
   "cell_type": "code",
   "execution_count": 99,
   "id": "ae2b1d05",
   "metadata": {},
   "outputs": [],
   "source": [
    "# Load model\n",
    "filename = 'Create_XGB_Model_BikeSharing.sav'\n",
    "loaded_model = pickle.load(open(filename, 'rb'))"
   ]
  },
  {
   "cell_type": "code",
   "execution_count": 100,
   "id": "4a25c30d",
   "metadata": {},
   "outputs": [
    {
     "data": {
      "text/plain": [
       "40.33654258168992"
      ]
     },
     "execution_count": 100,
     "metadata": {},
     "output_type": "execute_result"
    }
   ],
   "source": [
    "np.sqrt(mean_squared_error(y_test, loaded_model.predict(X_test)))"
   ]
  }
 ],
 "metadata": {
  "kernelspec": {
   "display_name": "Python 3",
   "language": "python",
   "name": "python3"
  },
  "language_info": {
   "codemirror_mode": {
    "name": "ipython",
    "version": 3
   },
   "file_extension": ".py",
   "mimetype": "text/x-python",
   "name": "python",
   "nbconvert_exporter": "python",
   "pygments_lexer": "ipython3",
   "version": "3.10.8"
  },
  "vscode": {
   "interpreter": {
    "hash": "3a501d581e90d4f78ac42f5e05b2bd2f2b7ecd267861db3f3c2661c594f10a95"
   }
  }
 },
 "nbformat": 4,
 "nbformat_minor": 5
}
